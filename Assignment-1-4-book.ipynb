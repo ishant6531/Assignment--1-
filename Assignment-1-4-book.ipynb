{
 "cells": [
  {
   "cell_type": "code",
   "execution_count": 4,
   "metadata": {},
   "outputs": [],
   "source": [
    "from selenium import webdriver\n",
    "from bs4 import BeautifulSoup\n",
    "import pandas as pd"
   ]
  },
  {
   "cell_type": "code",
   "execution_count": 5,
   "metadata": {},
   "outputs": [],
   "source": [
    "path = r\"C:\\Users\\thunderbolt\\sof\\chromedriver.exe\""
   ]
  },
  {
   "cell_type": "code",
   "execution_count": 6,
   "metadata": {},
   "outputs": [],
   "source": [
    "driver = webdriver.Chrome(path)"
   ]
  },
  {
   "cell_type": "code",
   "execution_count": 7,
   "metadata": {},
   "outputs": [],
   "source": [
    "driver.get('https://bookpage.com/reviews?page=2')"
   ]
  },
  {
   "cell_type": "code",
   "execution_count": 8,
   "metadata": {},
   "outputs": [
    {
     "name": "stdout",
     "output_type": "stream",
     "text": [
      "10\n",
      "10\n",
      "10\n"
     ]
    }
   ],
   "source": [
    "content=driver.page_source\n",
    "soup= BeautifulSoup(content)\n",
    "book_name=soup.findAll('h4',attrs={'class':'italic'})\n",
    "print(len(book_name))\n",
    "author_name=soup.findAll('p',attrs={'class':'sans bold'})\n",
    "print(len(author_name))\n",
    "genre=soup.findAll('p',attrs={'class':'genre-links hidden-phone'})\n",
    "print(len(genre))\n"
   ]
  },
  {
   "cell_type": "code",
   "execution_count": 9,
   "metadata": {},
   "outputs": [
    {
     "data": {
      "text/plain": [
       "[<h4 class=\"italic\">\n",
       " <a href=\"/reviews/25668-jonathan-daniel-wells-kidnapping-club-nonfiction\">The Kidnapping Club</a>\n",
       " </h4>,\n",
       " <h4 class=\"italic\">\n",
       " <a href=\"/reviews/25652-cecily-von-ziegesar-cobble-hill-fiction\">Cobble Hill</a>\n",
       " </h4>,\n",
       " <h4 class=\"italic\">\n",
       " <a href=\"/reviews/25561-h-w-brands-zealot-emancipator-history\"> <span style=\"font-style:normal;\">★ </span>The Zealot and the Emancipator</a>\n",
       " </h4>,\n",
       " <h4 class=\"italic\">\n",
       " <a href=\"/reviews/25637-spike-carlsen-walk-around-block-nonfiction\"> <span style=\"font-style:normal;\">★ </span>A Walk Around the Block</a>\n",
       " </h4>,\n",
       " <h4 class=\"italic\">\n",
       " <a href=\"/reviews/25677-alexander-dan-vilhjalmsson-shadows-short-days-science-fiction-fantasy\">Shadows of the Short Days</a>\n",
       " </h4>,\n",
       " <h4 class=\"italic\">\n",
       " <a href=\"/reviews/25623-neil-gaiman-well-read-fiction\">The Neil Gaiman Reader</a>\n",
       " </h4>,\n",
       " <h4 class=\"italic\">\n",
       " <a href=\"/reviews/25640-scott-eyman-cary-grant-biography\">Cary Grant</a>\n",
       " </h4>,\n",
       " <h4 class=\"italic\">\n",
       " <a href=\"/reviews/25643-ashley-poston-among-beasts-briars-ya\"> <span style=\"font-style:normal;\">★ </span>Among the Beasts &amp; Briars</a>\n",
       " </h4>,\n",
       " <h4 class=\"italic\">\n",
       " <a href=\"/reviews/25580-william-souder-mad-at-world-biography\">Mad at the World</a>\n",
       " </h4>,\n",
       " <h4 class=\"italic\">\n",
       " <a href=\"/reviews/25633-john-grisham-time-mercy-mystery-suspense\"> <span style=\"font-style:normal;\">★ </span>A Time for Mercy</a>\n",
       " </h4>]"
      ]
     },
     "execution_count": 9,
     "metadata": {},
     "output_type": "execute_result"
    }
   ],
   "source": [
    "book_name"
   ]
  },
  {
   "cell_type": "code",
   "execution_count": 10,
   "metadata": {},
   "outputs": [
    {
     "data": {
      "text/plain": [
       "[<p class=\"sans bold\">\n",
       " Jonathan Daniel Wells\n",
       " </p>,\n",
       " <p class=\"sans bold\">\n",
       " Cecily von Ziegesar\n",
       " </p>,\n",
       " <p class=\"sans bold\">\n",
       " H.W. Brands\n",
       " </p>,\n",
       " <p class=\"sans bold\">\n",
       " Spike Carlsen\n",
       " </p>,\n",
       " <p class=\"sans bold\">\n",
       " Alexander Dan Vilhjálmsson\n",
       " </p>,\n",
       " <p class=\"sans bold\">\n",
       " Neil Gaiman\n",
       " </p>,\n",
       " <p class=\"sans bold\">\n",
       " Scott Eyman\n",
       " </p>,\n",
       " <p class=\"sans bold\">\n",
       " Ashley Poston\n",
       " </p>,\n",
       " <p class=\"sans bold\">\n",
       " William Souder\n",
       " </p>,\n",
       " <p class=\"sans bold\">\n",
       " John Grisham\n",
       " </p>]"
      ]
     },
     "execution_count": 10,
     "metadata": {},
     "output_type": "execute_result"
    }
   ],
   "source": [
    "author_name"
   ]
  },
  {
   "cell_type": "code",
   "execution_count": 11,
   "metadata": {},
   "outputs": [
    {
     "data": {
      "text/plain": [
       "[<p class=\"genre-links hidden-phone\">\n",
       " <a href=\"/search?book_genre=nonfiction\">Nonfiction</a>\n",
       "  / \n",
       " <a href=\"/search?book_genre=american_history\">American History</a>\n",
       "  / \n",
       " <a href=\"/search?book_genre=african_american_history\">African American History</a>\n",
       " </p>,\n",
       " <p class=\"genre-links hidden-phone\">\n",
       " <a href=\"/search?book_genre=fiction\">Fiction</a>\n",
       "  / \n",
       " <a href=\"/search?book_genre=popular_fiction\">Popular Fiction</a>\n",
       " </p>,\n",
       " <p class=\"genre-links hidden-phone\">\n",
       " <a href=\"/search?book_genre=nonfiction\">Nonfiction</a>\n",
       "  / \n",
       " <a href=\"/search?book_genre=history\">History</a>\n",
       "  / \n",
       " <a href=\"/search?book_genre=american_history\">American History</a>\n",
       " </p>,\n",
       " <p class=\"genre-links hidden-phone\">\n",
       " <a href=\"/search?book_genre=nonfiction\">Nonfiction</a>\n",
       "  / \n",
       " <a href=\"/search?book_genre=science_nature\">Science &amp; Nature</a>\n",
       " </p>,\n",
       " <p class=\"genre-links hidden-phone\">\n",
       " <a href=\"/search?book_genre=science_fiction_fantasy\">Science Fiction &amp; Fantasy</a>\n",
       "  / \n",
       " <a href=\"/search?book_genre=fantasy\">Fantasy</a>\n",
       " </p>,\n",
       " <p class=\"genre-links hidden-phone\">\n",
       " <a href=\"/search?book_genre=fiction\">Fiction</a>\n",
       "  / \n",
       " <a href=\"/search?book_genre=short_stories\">Short Stories</a>\n",
       "  / \n",
       " <a href=\"/search?book_genre=anthology\">Anthology</a>\n",
       " </p>,\n",
       " <p class=\"genre-links hidden-phone\">\n",
       " <a href=\"/search?book_genre=nonfiction\">Nonfiction</a>\n",
       "  / \n",
       " <a href=\"/search?book_genre=biography\">Biography</a>\n",
       "  / \n",
       " <a href=\"/search?book_genre=celebrities\">Celebrities</a>\n",
       " </p>,\n",
       " <p class=\"genre-links hidden-phone\">\n",
       " <a href=\"/search?book_genre=ya\">YA</a>\n",
       "  / \n",
       " <a href=\"/search?book_genre=ya_fiction\">YA Fiction</a>\n",
       " </p>,\n",
       " <p class=\"genre-links hidden-phone\">\n",
       " <a href=\"/search?book_genre=nonfiction\">Nonfiction</a>\n",
       "  / \n",
       " <a href=\"/search?book_genre=biography\">Biography</a>\n",
       "  / \n",
       " <a href=\"/search?book_genre=literary_history\">Literary History</a>\n",
       " </p>,\n",
       " <p class=\"genre-links hidden-phone\">\n",
       " <a href=\"/search?book_genre=mystery_suspense\">Mystery &amp; Suspense</a>\n",
       "  / \n",
       " <a href=\"/search?book_genre=suspense\">Suspense</a>\n",
       " </p>]"
      ]
     },
     "execution_count": 11,
     "metadata": {},
     "output_type": "execute_result"
    }
   ],
   "source": [
    "genre"
   ]
  },
  {
   "cell_type": "code",
   "execution_count": 12,
   "metadata": {},
   "outputs": [],
   "source": [
    "Book_Name=[]\n",
    "Author_Name=[]\n",
    "Genre=[]"
   ]
  },
  {
   "cell_type": "code",
   "execution_count": 13,
   "metadata": {},
   "outputs": [
    {
     "data": {
      "text/plain": [
       "[<a href=\"/reviews/25668-jonathan-daniel-wells-kidnapping-club-nonfiction\">The Kidnapping Club</a>,\n",
       " <a href=\"/reviews/25652-cecily-von-ziegesar-cobble-hill-fiction\">Cobble Hill</a>,\n",
       " <a href=\"/reviews/25561-h-w-brands-zealot-emancipator-history\"> <span style=\"font-style:normal;\">★ </span>The Zealot and the Emancipator</a>,\n",
       " <a href=\"/reviews/25637-spike-carlsen-walk-around-block-nonfiction\"> <span style=\"font-style:normal;\">★ </span>A Walk Around the Block</a>,\n",
       " <a href=\"/reviews/25677-alexander-dan-vilhjalmsson-shadows-short-days-science-fiction-fantasy\">Shadows of the Short Days</a>,\n",
       " <a href=\"/reviews/25623-neil-gaiman-well-read-fiction\">The Neil Gaiman Reader</a>,\n",
       " <a href=\"/reviews/25640-scott-eyman-cary-grant-biography\">Cary Grant</a>,\n",
       " <a href=\"/reviews/25643-ashley-poston-among-beasts-briars-ya\"> <span style=\"font-style:normal;\">★ </span>Among the Beasts &amp; Briars</a>,\n",
       " <a href=\"/reviews/25580-william-souder-mad-at-world-biography\">Mad at the World</a>,\n",
       " <a href=\"/reviews/25633-john-grisham-time-mercy-mystery-suspense\"> <span style=\"font-style:normal;\">★ </span>A Time for Mercy</a>]"
      ]
     },
     "execution_count": 13,
     "metadata": {},
     "output_type": "execute_result"
    }
   ],
   "source": [
    "for i in book_name:\n",
    "     for k in i.find_all('a'):\n",
    "        Book_Name.append(k)\n",
    "Book_Name"
   ]
  },
  {
   "cell_type": "code",
   "execution_count": 14,
   "metadata": {},
   "outputs": [],
   "source": [
    "Book_name=[]"
   ]
  },
  {
   "cell_type": "code",
   "execution_count": 15,
   "metadata": {},
   "outputs": [
    {
     "data": {
      "text/plain": [
       "['The Kidnapping Club',\n",
       " 'Cobble Hill',\n",
       " ' ★ The Zealot and the Emancipator',\n",
       " ' ★ A Walk Around the Block',\n",
       " 'Shadows of the Short Days',\n",
       " 'The Neil Gaiman Reader',\n",
       " 'Cary Grant',\n",
       " ' ★ Among the Beasts & Briars',\n",
       " 'Mad at the World',\n",
       " ' ★ A Time for Mercy']"
      ]
     },
     "execution_count": 15,
     "metadata": {},
     "output_type": "execute_result"
    }
   ],
   "source": [
    "for i in Book_Name:\n",
    "    Book_name.append(i.text)\n",
    "Book_name"
   ]
  },
  {
   "cell_type": "code",
   "execution_count": 16,
   "metadata": {},
   "outputs": [
    {
     "data": {
      "text/html": [
       "<div>\n",
       "<style scoped>\n",
       "    .dataframe tbody tr th:only-of-type {\n",
       "        vertical-align: middle;\n",
       "    }\n",
       "\n",
       "    .dataframe tbody tr th {\n",
       "        vertical-align: top;\n",
       "    }\n",
       "\n",
       "    .dataframe thead th {\n",
       "        text-align: right;\n",
       "    }\n",
       "</style>\n",
       "<table border=\"1\" class=\"dataframe\">\n",
       "  <thead>\n",
       "    <tr style=\"text-align: right;\">\n",
       "      <th></th>\n",
       "      <th>Book Name</th>\n",
       "    </tr>\n",
       "  </thead>\n",
       "  <tbody>\n",
       "    <tr>\n",
       "      <th>0</th>\n",
       "      <td>[The Kidnapping Club]</td>\n",
       "    </tr>\n",
       "    <tr>\n",
       "      <th>1</th>\n",
       "      <td>[Cobble Hill]</td>\n",
       "    </tr>\n",
       "    <tr>\n",
       "      <th>2</th>\n",
       "      <td>[ , [★ ], The Zealot and the Emancipator]</td>\n",
       "    </tr>\n",
       "    <tr>\n",
       "      <th>3</th>\n",
       "      <td>[ , [★ ], A Walk Around the Block]</td>\n",
       "    </tr>\n",
       "    <tr>\n",
       "      <th>4</th>\n",
       "      <td>[Shadows of the Short Days]</td>\n",
       "    </tr>\n",
       "  </tbody>\n",
       "</table>\n",
       "</div>"
      ],
      "text/plain": [
       "                                   Book Name\n",
       "0                      [The Kidnapping Club]\n",
       "1                              [Cobble Hill]\n",
       "2  [ , [★ ], The Zealot and the Emancipator]\n",
       "3         [ , [★ ], A Walk Around the Block]\n",
       "4                [Shadows of the Short Days]"
      ]
     },
     "execution_count": 16,
     "metadata": {},
     "output_type": "execute_result"
    }
   ],
   "source": [
    "df1=pd.DataFrame(Book_Name)\n",
    "df1=df1.rename({0:'Book Name'},axis=1)\n",
    "df1=df1.iloc[0:5]\n",
    "df1"
   ]
  },
  {
   "cell_type": "code",
   "execution_count": null,
   "metadata": {},
   "outputs": [],
   "source": []
  },
  {
   "cell_type": "code",
   "execution_count": 18,
   "metadata": {},
   "outputs": [
    {
     "data": {
      "text/html": [
       "<div>\n",
       "<style scoped>\n",
       "    .dataframe tbody tr th:only-of-type {\n",
       "        vertical-align: middle;\n",
       "    }\n",
       "\n",
       "    .dataframe tbody tr th {\n",
       "        vertical-align: top;\n",
       "    }\n",
       "\n",
       "    .dataframe thead th {\n",
       "        text-align: right;\n",
       "    }\n",
       "</style>\n",
       "<table border=\"1\" class=\"dataframe\">\n",
       "  <thead>\n",
       "    <tr style=\"text-align: right;\">\n",
       "      <th></th>\n",
       "      <th>Author_Name</th>\n",
       "    </tr>\n",
       "  </thead>\n",
       "  <tbody>\n",
       "    <tr>\n",
       "      <th>0</th>\n",
       "      <td>Jonathan Daniel Wells</td>\n",
       "    </tr>\n",
       "    <tr>\n",
       "      <th>1</th>\n",
       "      <td>Cecily von Ziegesar</td>\n",
       "    </tr>\n",
       "    <tr>\n",
       "      <th>2</th>\n",
       "      <td>H.W. Brands</td>\n",
       "    </tr>\n",
       "    <tr>\n",
       "      <th>3</th>\n",
       "      <td>Spike Carlsen</td>\n",
       "    </tr>\n",
       "    <tr>\n",
       "      <th>4</th>\n",
       "      <td>Alexander Dan Vilhjálmsson</td>\n",
       "    </tr>\n",
       "  </tbody>\n",
       "</table>\n",
       "</div>"
      ],
      "text/plain": [
       "                    Author_Name\n",
       "0        Jonathan Daniel Wells \n",
       "1          Cecily von Ziegesar \n",
       "2                  H.W. Brands \n",
       "3                Spike Carlsen \n",
       "4   Alexander Dan Vilhjálmsson "
      ]
     },
     "execution_count": 18,
     "metadata": {},
     "output_type": "execute_result"
    }
   ],
   "source": [
    "df= pd.DataFrame(Author_Name)\n",
    "df[0]=df[0].str.replace('\\n',' ')\n",
    "df=df.iloc[0:5]\n",
    "df=df.rename({0:'Author_Name'},axis=1)\n",
    "df"
   ]
  },
  {
   "cell_type": "code",
   "execution_count": 19,
   "metadata": {},
   "outputs": [
    {
     "data": {
      "text/plain": [
       "['\\nNonfiction\\n / \\nAmerican History\\n / \\nAfrican American History\\n',\n",
       " '\\nFiction\\n / \\nPopular Fiction\\n',\n",
       " '\\nNonfiction\\n / \\nHistory\\n / \\nAmerican History\\n',\n",
       " '\\nNonfiction\\n / \\nScience & Nature\\n',\n",
       " '\\nScience Fiction & Fantasy\\n / \\nFantasy\\n',\n",
       " '\\nFiction\\n / \\nShort Stories\\n / \\nAnthology\\n',\n",
       " '\\nNonfiction\\n / \\nBiography\\n / \\nCelebrities\\n',\n",
       " '\\nYA\\n / \\nYA Fiction\\n',\n",
       " '\\nNonfiction\\n / \\nBiography\\n / \\nLiterary History\\n',\n",
       " '\\nMystery & Suspense\\n / \\nSuspense\\n']"
      ]
     },
     "execution_count": 19,
     "metadata": {},
     "output_type": "execute_result"
    }
   ],
   "source": [
    "for i in genre:\n",
    "     Genre.append(i.text)\n",
    "Genre"
   ]
  },
  {
   "cell_type": "code",
   "execution_count": 20,
   "metadata": {},
   "outputs": [
    {
     "data": {
      "text/html": [
       "<div>\n",
       "<style scoped>\n",
       "    .dataframe tbody tr th:only-of-type {\n",
       "        vertical-align: middle;\n",
       "    }\n",
       "\n",
       "    .dataframe tbody tr th {\n",
       "        vertical-align: top;\n",
       "    }\n",
       "\n",
       "    .dataframe thead th {\n",
       "        text-align: right;\n",
       "    }\n",
       "</style>\n",
       "<table border=\"1\" class=\"dataframe\">\n",
       "  <thead>\n",
       "    <tr style=\"text-align: right;\">\n",
       "      <th></th>\n",
       "      <th>Genre</th>\n",
       "    </tr>\n",
       "  </thead>\n",
       "  <tbody>\n",
       "    <tr>\n",
       "      <th>0</th>\n",
       "      <td>Nonfiction  /  American History  /  African A...</td>\n",
       "    </tr>\n",
       "    <tr>\n",
       "      <th>1</th>\n",
       "      <td>Fiction  /  Popular Fiction</td>\n",
       "    </tr>\n",
       "    <tr>\n",
       "      <th>2</th>\n",
       "      <td>Nonfiction  /  History  /  American History</td>\n",
       "    </tr>\n",
       "    <tr>\n",
       "      <th>3</th>\n",
       "      <td>Nonfiction  /  Science &amp; Nature</td>\n",
       "    </tr>\n",
       "    <tr>\n",
       "      <th>4</th>\n",
       "      <td>Science Fiction &amp; Fantasy  /  Fantasy</td>\n",
       "    </tr>\n",
       "  </tbody>\n",
       "</table>\n",
       "</div>"
      ],
      "text/plain": [
       "                                               Genre\n",
       "0   Nonfiction  /  American History  /  African A...\n",
       "1                       Fiction  /  Popular Fiction \n",
       "2       Nonfiction  /  History  /  American History \n",
       "3                   Nonfiction  /  Science & Nature \n",
       "4             Science Fiction & Fantasy  /  Fantasy "
      ]
     },
     "execution_count": 20,
     "metadata": {},
     "output_type": "execute_result"
    }
   ],
   "source": [
    "df2=pd.DataFrame(Genre)\n",
    "df2[0]=df2[0].str.replace('\\n',' ')\n",
    "df2=df2.rename({0:'Genre'},axis=1)\n",
    "df2=df2.iloc[0:5]\n",
    "df2"
   ]
  },
  {
   "cell_type": "code",
   "execution_count": 21,
   "metadata": {},
   "outputs": [
    {
     "data": {
      "text/html": [
       "<div>\n",
       "<style scoped>\n",
       "    .dataframe tbody tr th:only-of-type {\n",
       "        vertical-align: middle;\n",
       "    }\n",
       "\n",
       "    .dataframe tbody tr th {\n",
       "        vertical-align: top;\n",
       "    }\n",
       "\n",
       "    .dataframe thead th {\n",
       "        text-align: right;\n",
       "    }\n",
       "</style>\n",
       "<table border=\"1\" class=\"dataframe\">\n",
       "  <thead>\n",
       "    <tr style=\"text-align: right;\">\n",
       "      <th></th>\n",
       "      <th>Book Name</th>\n",
       "      <th>Author_Name</th>\n",
       "      <th>Genre</th>\n",
       "    </tr>\n",
       "  </thead>\n",
       "  <tbody>\n",
       "    <tr>\n",
       "      <th>0</th>\n",
       "      <td>[The Kidnapping Club]</td>\n",
       "      <td>Jonathan Daniel Wells</td>\n",
       "      <td>Nonfiction  /  American History  /  African A...</td>\n",
       "    </tr>\n",
       "    <tr>\n",
       "      <th>1</th>\n",
       "      <td>[Cobble Hill]</td>\n",
       "      <td>Cecily von Ziegesar</td>\n",
       "      <td>Fiction  /  Popular Fiction</td>\n",
       "    </tr>\n",
       "    <tr>\n",
       "      <th>2</th>\n",
       "      <td>[ , [★ ], The Zealot and the Emancipator]</td>\n",
       "      <td>H.W. Brands</td>\n",
       "      <td>Nonfiction  /  History  /  American History</td>\n",
       "    </tr>\n",
       "    <tr>\n",
       "      <th>3</th>\n",
       "      <td>[ , [★ ], A Walk Around the Block]</td>\n",
       "      <td>Spike Carlsen</td>\n",
       "      <td>Nonfiction  /  Science &amp; Nature</td>\n",
       "    </tr>\n",
       "    <tr>\n",
       "      <th>4</th>\n",
       "      <td>[Shadows of the Short Days]</td>\n",
       "      <td>Alexander Dan Vilhjálmsson</td>\n",
       "      <td>Science Fiction &amp; Fantasy  /  Fantasy</td>\n",
       "    </tr>\n",
       "  </tbody>\n",
       "</table>\n",
       "</div>"
      ],
      "text/plain": [
       "                                   Book Name                   Author_Name  \\\n",
       "0                      [The Kidnapping Club]        Jonathan Daniel Wells    \n",
       "1                              [Cobble Hill]          Cecily von Ziegesar    \n",
       "2  [ , [★ ], The Zealot and the Emancipator]                  H.W. Brands    \n",
       "3         [ , [★ ], A Walk Around the Block]                Spike Carlsen    \n",
       "4                [Shadows of the Short Days]   Alexander Dan Vilhjálmsson    \n",
       "\n",
       "                                               Genre  \n",
       "0   Nonfiction  /  American History  /  African A...  \n",
       "1                       Fiction  /  Popular Fiction   \n",
       "2       Nonfiction  /  History  /  American History   \n",
       "3                   Nonfiction  /  Science & Nature   \n",
       "4             Science Fiction & Fantasy  /  Fantasy   "
      ]
     },
     "execution_count": 21,
     "metadata": {},
     "output_type": "execute_result"
    }
   ],
   "source": [
    "Bookpage=pd.concat([df1,df,df2],axis=1)\n",
    "Bookpage"
   ]
  },
  {
   "cell_type": "code",
   "execution_count": 22,
   "metadata": {},
   "outputs": [],
   "source": [
    "driver.get('https://bookpage.com/reviews/25671-elizabeth-berg-ill-be-seeing-you-nonfiction#.X51coIgzY2w')"
   ]
  },
  {
   "cell_type": "code",
   "execution_count": 23,
   "metadata": {},
   "outputs": [],
   "source": [
    "yk=driver.find_elements_by_xpath(\"//div[@class='article-body']/p\")"
   ]
  },
  {
   "cell_type": "code",
   "execution_count": 24,
   "metadata": {},
   "outputs": [
    {
     "data": {
      "text/plain": [
       "[<selenium.webdriver.remote.webelement.WebElement (session=\"9e000ccb9e69a387fdbe050a4ad736d7\", element=\"e866116b-effa-4825-9f21-c1c3d9569177\")>,\n",
       " <selenium.webdriver.remote.webelement.WebElement (session=\"9e000ccb9e69a387fdbe050a4ad736d7\", element=\"350cf1ad-d1c5-4e93-b5c9-dd2aa74335aa\")>,\n",
       " <selenium.webdriver.remote.webelement.WebElement (session=\"9e000ccb9e69a387fdbe050a4ad736d7\", element=\"50f55517-bcd5-424d-b620-08815b8918b8\")>,\n",
       " <selenium.webdriver.remote.webelement.WebElement (session=\"9e000ccb9e69a387fdbe050a4ad736d7\", element=\"54c70f4a-200d-41de-bf4d-ef79a4b05183\")>,\n",
       " <selenium.webdriver.remote.webelement.WebElement (session=\"9e000ccb9e69a387fdbe050a4ad736d7\", element=\"5e83c678-de29-4220-aa2c-fd2a5f3e5843\")>,\n",
       " <selenium.webdriver.remote.webelement.WebElement (session=\"9e000ccb9e69a387fdbe050a4ad736d7\", element=\"f9f1718b-7d78-4f4c-bd5b-099351e6b8f9\")>,\n",
       " <selenium.webdriver.remote.webelement.WebElement (session=\"9e000ccb9e69a387fdbe050a4ad736d7\", element=\"14fd3626-3832-4e9f-98c3-4f2a894d420b\")>,\n",
       " <selenium.webdriver.remote.webelement.WebElement (session=\"9e000ccb9e69a387fdbe050a4ad736d7\", element=\"f85b620d-a870-412f-8743-6e6ae1d5bed8\")>]"
      ]
     },
     "execution_count": 24,
     "metadata": {},
     "output_type": "execute_result"
    }
   ],
   "source": [
    "yk"
   ]
  },
  {
   "cell_type": "code",
   "execution_count": 25,
   "metadata": {},
   "outputs": [],
   "source": [
    "review1= []"
   ]
  },
  {
   "cell_type": "code",
   "execution_count": 26,
   "metadata": {},
   "outputs": [
    {
     "data": {
      "text/plain": [
       "['',\n",
       " '“This book is a diary of my parents’ decline.”',\n",
       " 'So opens novelist Elizabeth Berg’s new biographic memoir, I’ll Be Seeing You. Yes, her prologue speaks bluntly, but don’t be deterred. Though this book does bear witness to the inevitability of aging and loss, it is nonetheless a small gem shining with Berg’s signature largesse—generous gifts of poetic insight, close observance, vulnerability, honesty, humor and grace.',\n",
       " 'Berg’s father, a tough U.S. Army “lifer,” is in the early stages of Alzheimer’s disease, while his wife of more than 67 years tries to cope. Though he’s always been autocratic and demanding, Berg’s father unconditionally adores his wife. “She was the place where he put his tenderness,” Berg writes. Eventually, his gradual descent into dementia, along with his wife’s advancing age, force the couple to move from their longtime home into a two-bedroom apartment in an assisted living facility.',\n",
       " 'Berg and her sister try to negotiate and navigate this upheaval with their parents’ best interests at heart, but complications arise. Their father is increasingly confused and isolated, and their usually even-tempered mother becomes angry—an understandable reaction to her two-pronged grief over losing her husband to dementia and leaving a beloved home. “My mother was enraged,” Berg writes. “Her heart was breaking because her house was being taken from her, which is to say that her life was.”',\n",
       " 'From the fall of 2010 to the summer of 2011, short diary entries focus mainly on the events of Berg’s aging parents’ lives, as the author and her sister step in to be their parents’ loving—and often frustrated—family caregivers. “It’s hard to know how to rescue someone. It’s hard to know how to help them in the way they need to be helped,” she writes in one entry. Such rueful reflections are blended with an appreciation of ordinary moments, making each entry a story in miniature—cameos of the joys and pains of family life, and the challenges and rewards of caregiving for loved ones.',\n",
       " 'Readers familiar with Berg’s novels know that her stories wonderfully encompass the comforts of beauty and wry humor, but they never sugarcoat life’s hard truths. The same is true of I’ll Be Seeing You, which mines the wisdom hidden in difficult times. “Life is a minefield at any age,” Berg writes. “If we’re smart, we count our blessings between the darker surprises. When I look at my parents’ lives, I know they were lucky. And still are.”',\n",
       " '']"
      ]
     },
     "execution_count": 26,
     "metadata": {},
     "output_type": "execute_result"
    }
   ],
   "source": [
    "for i in yk:\n",
    "    kk= i.text\n",
    "    review1.append(kk)\n",
    "review1"
   ]
  },
  {
   "cell_type": "code",
   "execution_count": 27,
   "metadata": {},
   "outputs": [
    {
     "data": {
      "text/html": [
       "<div>\n",
       "<style scoped>\n",
       "    .dataframe tbody tr th:only-of-type {\n",
       "        vertical-align: middle;\n",
       "    }\n",
       "\n",
       "    .dataframe tbody tr th {\n",
       "        vertical-align: top;\n",
       "    }\n",
       "\n",
       "    .dataframe thead th {\n",
       "        text-align: right;\n",
       "    }\n",
       "</style>\n",
       "<table border=\"1\" class=\"dataframe\">\n",
       "  <thead>\n",
       "    <tr style=\"text-align: right;\">\n",
       "      <th></th>\n",
       "      <th>Review</th>\n",
       "    </tr>\n",
       "  </thead>\n",
       "  <tbody>\n",
       "    <tr>\n",
       "      <th>0</th>\n",
       "      <td></td>\n",
       "    </tr>\n",
       "    <tr>\n",
       "      <th>1</th>\n",
       "      <td>“This book is a diary of my parents’ decline.”</td>\n",
       "    </tr>\n",
       "    <tr>\n",
       "      <th>2</th>\n",
       "      <td>So opens novelist Elizabeth Berg’s new biograp...</td>\n",
       "    </tr>\n",
       "    <tr>\n",
       "      <th>3</th>\n",
       "      <td>Berg’s father, a tough U.S. Army “lifer,” is i...</td>\n",
       "    </tr>\n",
       "    <tr>\n",
       "      <th>4</th>\n",
       "      <td>Berg and her sister try to negotiate and navig...</td>\n",
       "    </tr>\n",
       "    <tr>\n",
       "      <th>5</th>\n",
       "      <td>From the fall of 2010 to the summer of 2011, s...</td>\n",
       "    </tr>\n",
       "    <tr>\n",
       "      <th>6</th>\n",
       "      <td>Readers familiar with Berg’s novels know that ...</td>\n",
       "    </tr>\n",
       "    <tr>\n",
       "      <th>7</th>\n",
       "      <td></td>\n",
       "    </tr>\n",
       "  </tbody>\n",
       "</table>\n",
       "</div>"
      ],
      "text/plain": [
       "                                              Review\n",
       "0                                                   \n",
       "1     “This book is a diary of my parents’ decline.”\n",
       "2  So opens novelist Elizabeth Berg’s new biograp...\n",
       "3  Berg’s father, a tough U.S. Army “lifer,” is i...\n",
       "4  Berg and her sister try to negotiate and navig...\n",
       "5  From the fall of 2010 to the summer of 2011, s...\n",
       "6  Readers familiar with Berg’s novels know that ...\n",
       "7                                                   "
      ]
     },
     "execution_count": 27,
     "metadata": {},
     "output_type": "execute_result"
    }
   ],
   "source": [
    "df3=pd.DataFrame(review1)\n",
    "df3=df3.rename({0:'Review'},axis=1)\n",
    "df3"
   ]
  },
  {
   "cell_type": "code",
   "execution_count": 28,
   "metadata": {},
   "outputs": [
    {
     "data": {
      "text/html": [
       "<div>\n",
       "<style scoped>\n",
       "    .dataframe tbody tr th:only-of-type {\n",
       "        vertical-align: middle;\n",
       "    }\n",
       "\n",
       "    .dataframe tbody tr th {\n",
       "        vertical-align: top;\n",
       "    }\n",
       "\n",
       "    .dataframe thead th {\n",
       "        text-align: right;\n",
       "    }\n",
       "</style>\n",
       "<table border=\"1\" class=\"dataframe\">\n",
       "  <thead>\n",
       "    <tr style=\"text-align: right;\">\n",
       "      <th></th>\n",
       "      <th>Review</th>\n",
       "    </tr>\n",
       "  </thead>\n",
       "  <tbody>\n",
       "    <tr>\n",
       "      <th>0</th>\n",
       "      <td>“This book is a diary of my parents’ decline....</td>\n",
       "    </tr>\n",
       "  </tbody>\n",
       "</table>\n",
       "</div>"
      ],
      "text/plain": [
       "                                              Review\n",
       "0   “This book is a diary of my parents’ decline...."
      ]
     },
     "execution_count": 28,
     "metadata": {},
     "output_type": "execute_result"
    }
   ],
   "source": [
    "df3['Review']=df3['Review'].str.cat(sep=' ')\n",
    "df4=df3.iloc[:1]\n",
    "df4"
   ]
  },
  {
   "cell_type": "code",
   "execution_count": 29,
   "metadata": {},
   "outputs": [],
   "source": [
    "driver.get('https://bookpage.com/reviews/25654-jess-walter-cold-millions-fiction#.X51_I4gzY2w')"
   ]
  },
  {
   "cell_type": "code",
   "execution_count": 30,
   "metadata": {},
   "outputs": [],
   "source": [
    "review2= []"
   ]
  },
  {
   "cell_type": "code",
   "execution_count": 31,
   "metadata": {},
   "outputs": [],
   "source": [
    "z=driver.find_elements_by_xpath(\"//div[@class='article-body']/p\")"
   ]
  },
  {
   "cell_type": "code",
   "execution_count": 32,
   "metadata": {},
   "outputs": [
    {
     "data": {
      "text/plain": [
       "[<selenium.webdriver.remote.webelement.WebElement (session=\"9e000ccb9e69a387fdbe050a4ad736d7\", element=\"c8cf0f63-9f1d-4bc3-8835-3f962ae222a4\")>,\n",
       " <selenium.webdriver.remote.webelement.WebElement (session=\"9e000ccb9e69a387fdbe050a4ad736d7\", element=\"aea93152-3847-4329-b0d9-d92e4b53c2a5\")>,\n",
       " <selenium.webdriver.remote.webelement.WebElement (session=\"9e000ccb9e69a387fdbe050a4ad736d7\", element=\"cbfbfd79-b736-4ad4-bc7e-724b0715038d\")>,\n",
       " <selenium.webdriver.remote.webelement.WebElement (session=\"9e000ccb9e69a387fdbe050a4ad736d7\", element=\"f661bebe-5661-4dad-9038-262d1f0c3958\")>,\n",
       " <selenium.webdriver.remote.webelement.WebElement (session=\"9e000ccb9e69a387fdbe050a4ad736d7\", element=\"13858f03-452a-4e48-8245-e5eafc9e78b4\")>,\n",
       " <selenium.webdriver.remote.webelement.WebElement (session=\"9e000ccb9e69a387fdbe050a4ad736d7\", element=\"e5e25bfd-4188-4e83-b695-ecbceadb4da0\")>,\n",
       " <selenium.webdriver.remote.webelement.WebElement (session=\"9e000ccb9e69a387fdbe050a4ad736d7\", element=\"22942c61-550e-4a77-967f-1f2585a34a6d\")>,\n",
       " <selenium.webdriver.remote.webelement.WebElement (session=\"9e000ccb9e69a387fdbe050a4ad736d7\", element=\"161d7444-750c-45ab-b8c9-b85d574d0e5d\")>,\n",
       " <selenium.webdriver.remote.webelement.WebElement (session=\"9e000ccb9e69a387fdbe050a4ad736d7\", element=\"4209e3e2-189d-488a-a38c-6eeff1c5ee4c\")>]"
      ]
     },
     "execution_count": 32,
     "metadata": {},
     "output_type": "execute_result"
    }
   ],
   "source": [
    "z"
   ]
  },
  {
   "cell_type": "code",
   "execution_count": 33,
   "metadata": {},
   "outputs": [
    {
     "data": {
      "text/plain": [
       "['',\n",
       " 'Jess Walter’s first novel in eight years arrives with the weight of high expectations. His last, Beautiful Ruins, was a surprising and well-deserved bestseller. His previous fiction—including crime novels, a 9/11 tale and short stories—were rapturously reviewed.',\n",
       " 'In The Cold Millions, Walter tries another mixed genre, the Western historical novel, and shows he is a master at investigating the “hobo” world of 1909. The star of the book is Spokane, Washington, a “boomtown that just kept booming.” It is here, amid skid row poverty and mansions of wealth, that 19-year-old rabble rouser Elizabeth Gurley Flynn intersects with two orphaned young men, Rye and Gig, who are the protagonists of the story.',\n",
       " 'The book is uneven, however, and falls short of the romanticism of Beautiful Ruins. There is fine detail on dark anarchy and dank jail cells, but unlike Walter’s funny version of Richard Burton in Ruins, Flynn is so focused (one might say didactic) as to be wooden. Her leadership of the dismal class struggle becomes repetitive. Rye and Gig are callow, and even though Gig is a book lover and Rye a striver, they don’t fully inhabit their space. Readers may be far more interested in the villain, a robber baron named Brand, and a smart circus performer named Ursula the Great. When these two are cavorting, The Cold Millions shines.',\n",
       " 'Walter has devised some fantastic set pieces, including a riot that leads to a dreadful scene of jail overcrowding. The freedom of the road, the lawlessness of the police, the spectacle of a few cynical power figures making life miserable for the huddled masses—it’s all enlivened by Walter’s vivid writing. A reader can feel the rails rattling under the trains that thunder through the mountains. A new life, the 20th century, is roaring into being. As Rye thinks to himself, “History is like a parade.” ',\n",
       " 'Forget the book’s shortcomings; it’s good to have Jess Walter back.',\n",
       " ' ',\n",
       " 'ALSO IN BOOKPAGE: Jess Walter offers a closer look at The Cold Millions, his “last-gasp Western.”',\n",
       " '']"
      ]
     },
     "execution_count": 33,
     "metadata": {},
     "output_type": "execute_result"
    }
   ],
   "source": [
    "for i in z:\n",
    "    b= i.text\n",
    "    review2.append(b)\n",
    "review2"
   ]
  },
  {
   "cell_type": "code",
   "execution_count": 34,
   "metadata": {},
   "outputs": [
    {
     "data": {
      "text/html": [
       "<div>\n",
       "<style scoped>\n",
       "    .dataframe tbody tr th:only-of-type {\n",
       "        vertical-align: middle;\n",
       "    }\n",
       "\n",
       "    .dataframe tbody tr th {\n",
       "        vertical-align: top;\n",
       "    }\n",
       "\n",
       "    .dataframe thead th {\n",
       "        text-align: right;\n",
       "    }\n",
       "</style>\n",
       "<table border=\"1\" class=\"dataframe\">\n",
       "  <thead>\n",
       "    <tr style=\"text-align: right;\">\n",
       "      <th></th>\n",
       "      <th>Review</th>\n",
       "    </tr>\n",
       "  </thead>\n",
       "  <tbody>\n",
       "    <tr>\n",
       "      <th>0</th>\n",
       "      <td></td>\n",
       "    </tr>\n",
       "    <tr>\n",
       "      <th>1</th>\n",
       "      <td>Jess Walter’s first novel in eight years arriv...</td>\n",
       "    </tr>\n",
       "    <tr>\n",
       "      <th>2</th>\n",
       "      <td>In The Cold Millions, Walter tries another mix...</td>\n",
       "    </tr>\n",
       "    <tr>\n",
       "      <th>3</th>\n",
       "      <td>The book is uneven, however, and falls short o...</td>\n",
       "    </tr>\n",
       "    <tr>\n",
       "      <th>4</th>\n",
       "      <td>Walter has devised some fantastic set pieces, ...</td>\n",
       "    </tr>\n",
       "    <tr>\n",
       "      <th>5</th>\n",
       "      <td>Forget the book’s shortcomings; it’s good to h...</td>\n",
       "    </tr>\n",
       "    <tr>\n",
       "      <th>6</th>\n",
       "      <td></td>\n",
       "    </tr>\n",
       "    <tr>\n",
       "      <th>7</th>\n",
       "      <td>ALSO IN BOOKPAGE: Jess Walter offers a closer ...</td>\n",
       "    </tr>\n",
       "    <tr>\n",
       "      <th>8</th>\n",
       "      <td></td>\n",
       "    </tr>\n",
       "  </tbody>\n",
       "</table>\n",
       "</div>"
      ],
      "text/plain": [
       "                                              Review\n",
       "0                                                   \n",
       "1  Jess Walter’s first novel in eight years arriv...\n",
       "2  In The Cold Millions, Walter tries another mix...\n",
       "3  The book is uneven, however, and falls short o...\n",
       "4  Walter has devised some fantastic set pieces, ...\n",
       "5  Forget the book’s shortcomings; it’s good to h...\n",
       "6                                                   \n",
       "7  ALSO IN BOOKPAGE: Jess Walter offers a closer ...\n",
       "8                                                   "
      ]
     },
     "execution_count": 34,
     "metadata": {},
     "output_type": "execute_result"
    }
   ],
   "source": [
    "df5=pd.DataFrame(review2)\n",
    "df5=df5.rename({0:'Review'},axis=1)\n",
    "df5"
   ]
  },
  {
   "cell_type": "code",
   "execution_count": 35,
   "metadata": {},
   "outputs": [
    {
     "data": {
      "text/html": [
       "<div>\n",
       "<style scoped>\n",
       "    .dataframe tbody tr th:only-of-type {\n",
       "        vertical-align: middle;\n",
       "    }\n",
       "\n",
       "    .dataframe tbody tr th {\n",
       "        vertical-align: top;\n",
       "    }\n",
       "\n",
       "    .dataframe thead th {\n",
       "        text-align: right;\n",
       "    }\n",
       "</style>\n",
       "<table border=\"1\" class=\"dataframe\">\n",
       "  <thead>\n",
       "    <tr style=\"text-align: right;\">\n",
       "      <th></th>\n",
       "      <th>Review</th>\n",
       "    </tr>\n",
       "  </thead>\n",
       "  <tbody>\n",
       "    <tr>\n",
       "      <th>0</th>\n",
       "      <td>Jess Walter’s first novel in eight years arri...</td>\n",
       "    </tr>\n",
       "  </tbody>\n",
       "</table>\n",
       "</div>"
      ],
      "text/plain": [
       "                                              Review\n",
       "0   Jess Walter’s first novel in eight years arri..."
      ]
     },
     "execution_count": 35,
     "metadata": {},
     "output_type": "execute_result"
    }
   ],
   "source": [
    "df5['Review']=df5['Review'].str.cat(sep=' ')\n",
    "df6=df5.iloc[:1]\n",
    "df6"
   ]
  },
  {
   "cell_type": "code",
   "execution_count": 36,
   "metadata": {},
   "outputs": [],
   "source": [
    "driver.get('https://bookpage.com/reviews/25533-martin-amis-inside-story-fiction#.X52GkogzY2w')"
   ]
  },
  {
   "cell_type": "code",
   "execution_count": 37,
   "metadata": {},
   "outputs": [],
   "source": [
    "review3= []"
   ]
  },
  {
   "cell_type": "code",
   "execution_count": 38,
   "metadata": {},
   "outputs": [],
   "source": [
    "c=driver.find_elements_by_xpath(\"//div[@class='article-body']/p\")"
   ]
  },
  {
   "cell_type": "code",
   "execution_count": 39,
   "metadata": {},
   "outputs": [
    {
     "data": {
      "text/plain": [
       "[<selenium.webdriver.remote.webelement.WebElement (session=\"9e000ccb9e69a387fdbe050a4ad736d7\", element=\"08ad48de-dbe5-4362-89bf-642932f4deff\")>,\n",
       " <selenium.webdriver.remote.webelement.WebElement (session=\"9e000ccb9e69a387fdbe050a4ad736d7\", element=\"77a5c69a-a565-4fd0-87f5-157bc712cc04\")>,\n",
       " <selenium.webdriver.remote.webelement.WebElement (session=\"9e000ccb9e69a387fdbe050a4ad736d7\", element=\"edd85d60-d04a-4aff-b84d-b2289e76c182\")>,\n",
       " <selenium.webdriver.remote.webelement.WebElement (session=\"9e000ccb9e69a387fdbe050a4ad736d7\", element=\"13afa10b-d566-4ae0-a7eb-bc21b5bc7332\")>,\n",
       " <selenium.webdriver.remote.webelement.WebElement (session=\"9e000ccb9e69a387fdbe050a4ad736d7\", element=\"27c1ed2e-7986-444f-8af7-ab7064cb2ef1\")>,\n",
       " <selenium.webdriver.remote.webelement.WebElement (session=\"9e000ccb9e69a387fdbe050a4ad736d7\", element=\"5f3e1d85-e0c5-430a-a927-8fb2708ca691\")>,\n",
       " <selenium.webdriver.remote.webelement.WebElement (session=\"9e000ccb9e69a387fdbe050a4ad736d7\", element=\"45454799-56d2-42f5-b585-be6876808439\")>]"
      ]
     },
     "execution_count": 39,
     "metadata": {},
     "output_type": "execute_result"
    }
   ],
   "source": [
    "c"
   ]
  },
  {
   "cell_type": "code",
   "execution_count": 40,
   "metadata": {},
   "outputs": [
    {
     "data": {
      "text/plain": [
       "['',\n",
       " 'Though this book is categorized as a novel, there is little that, on the surface, appears fictional in British writer Martin Amis’ capacious “novelized memoir,” Inside Story. The book, he writes in its opening pages, “is about a life, my own, so it won’t read like a novel—more like a collection of linked short stories, with essayistic detours.” These short stories might better be called “episodes” that congeal into a metanarrative that is largely about the author’s lasting friendships with three late writers whose deaths left various scars on his personal landscape: his dear friend Christopher Hitchens, his mentor Saul Bellow and his parents’ close friend, the poet Philip Larkin.',\n",
       " 'Amis’ account sprawls back and forth across decades and continents, shifting not only in time but also in tense and voice, interrupted by a sometimes overwhelming quantity of explicating footnotes. This intentional disregard for conventional storytelling further blurs the line between truth and imagination. The reader presumes that much of the content is true at heart, with specifics morphed by the passage of time and the untrustworthiness of memory. But which parts are made up?',\n",
       " 'Readers might suspect that the character of Phoebe Phelps, a quirky, often infuriating girlfriend from the 1970s who remains Amis’ obsession for his entire adult life, is based in truth, if perhaps wildly exaggerated. But was she really a former escort turned high-class madam masquerading as a financial executive? Who knows? Amis certainly isn’t saying, nor should he. The important thing is that Phoebe drops a tantalizing, if dubious, bombshell halfway through that provides the book’s most compelling plot twist.',\n",
       " 'In one of the labyrinthine footnotes late in the book, Amis says of Bellow, “All the dead were in his custody, and he couldn’t let them go.” These elegant words might be applied to the real-life Amis as well. Now 71, this once-young buck of the British literary scene cannot help but look death, mortality and the meaning of life squarely in the face. And he does so with a singular panache and much offhanded wit, forging through upheavals past and present: 9/11, the Israeli-Palestinian conflict, the Trump presidency, totalitarianism, Islamism, the sexual revolution, Alzheimer’s and cancer, among many other dark realities.',\n",
       " 'Most readers will likely deem Inside Story more memoir than novel. It is certainly a sui generis work either way. Early on I christened it a “kitchen sink” book (as in, “everything but the”) and had to laugh, about halfway in, when the fictional Amis actually “poured the [drink] down the kitchen sink.” Yet whatever its hybrid status suggests, it regally caps Amis’ estimable literary career with cheeky candor and more than a touch of razzle-dazzle.',\n",
       " '']"
      ]
     },
     "execution_count": 40,
     "metadata": {},
     "output_type": "execute_result"
    }
   ],
   "source": [
    "for i in c:\n",
    "    d= i.text\n",
    "    review3.append(d)\n",
    "review3"
   ]
  },
  {
   "cell_type": "code",
   "execution_count": 41,
   "metadata": {},
   "outputs": [
    {
     "data": {
      "text/html": [
       "<div>\n",
       "<style scoped>\n",
       "    .dataframe tbody tr th:only-of-type {\n",
       "        vertical-align: middle;\n",
       "    }\n",
       "\n",
       "    .dataframe tbody tr th {\n",
       "        vertical-align: top;\n",
       "    }\n",
       "\n",
       "    .dataframe thead th {\n",
       "        text-align: right;\n",
       "    }\n",
       "</style>\n",
       "<table border=\"1\" class=\"dataframe\">\n",
       "  <thead>\n",
       "    <tr style=\"text-align: right;\">\n",
       "      <th></th>\n",
       "      <th>Review</th>\n",
       "    </tr>\n",
       "  </thead>\n",
       "  <tbody>\n",
       "    <tr>\n",
       "      <th>0</th>\n",
       "      <td></td>\n",
       "    </tr>\n",
       "    <tr>\n",
       "      <th>1</th>\n",
       "      <td>Though this book is categorized as a novel, th...</td>\n",
       "    </tr>\n",
       "    <tr>\n",
       "      <th>2</th>\n",
       "      <td>Amis’ account sprawls back and forth across de...</td>\n",
       "    </tr>\n",
       "    <tr>\n",
       "      <th>3</th>\n",
       "      <td>Readers might suspect that the character of Ph...</td>\n",
       "    </tr>\n",
       "    <tr>\n",
       "      <th>4</th>\n",
       "      <td>In one of the labyrinthine footnotes late in t...</td>\n",
       "    </tr>\n",
       "    <tr>\n",
       "      <th>5</th>\n",
       "      <td>Most readers will likely deem Inside Story mor...</td>\n",
       "    </tr>\n",
       "    <tr>\n",
       "      <th>6</th>\n",
       "      <td></td>\n",
       "    </tr>\n",
       "  </tbody>\n",
       "</table>\n",
       "</div>"
      ],
      "text/plain": [
       "                                              Review\n",
       "0                                                   \n",
       "1  Though this book is categorized as a novel, th...\n",
       "2  Amis’ account sprawls back and forth across de...\n",
       "3  Readers might suspect that the character of Ph...\n",
       "4  In one of the labyrinthine footnotes late in t...\n",
       "5  Most readers will likely deem Inside Story mor...\n",
       "6                                                   "
      ]
     },
     "execution_count": 41,
     "metadata": {},
     "output_type": "execute_result"
    }
   ],
   "source": [
    "df7=pd.DataFrame(review3)\n",
    "df7=df7.rename({0:'Review'},axis=1)\n",
    "df7"
   ]
  },
  {
   "cell_type": "code",
   "execution_count": 42,
   "metadata": {},
   "outputs": [
    {
     "data": {
      "text/html": [
       "<div>\n",
       "<style scoped>\n",
       "    .dataframe tbody tr th:only-of-type {\n",
       "        vertical-align: middle;\n",
       "    }\n",
       "\n",
       "    .dataframe tbody tr th {\n",
       "        vertical-align: top;\n",
       "    }\n",
       "\n",
       "    .dataframe thead th {\n",
       "        text-align: right;\n",
       "    }\n",
       "</style>\n",
       "<table border=\"1\" class=\"dataframe\">\n",
       "  <thead>\n",
       "    <tr style=\"text-align: right;\">\n",
       "      <th></th>\n",
       "      <th>Review</th>\n",
       "    </tr>\n",
       "  </thead>\n",
       "  <tbody>\n",
       "    <tr>\n",
       "      <th>0</th>\n",
       "      <td>Though this book is categorized as a novel, t...</td>\n",
       "    </tr>\n",
       "  </tbody>\n",
       "</table>\n",
       "</div>"
      ],
      "text/plain": [
       "                                              Review\n",
       "0   Though this book is categorized as a novel, t..."
      ]
     },
     "execution_count": 42,
     "metadata": {},
     "output_type": "execute_result"
    }
   ],
   "source": [
    "df7['Review']=df7['Review'].str.cat(sep=' ')\n",
    "df8=df7.iloc[:1]\n",
    "df8"
   ]
  },
  {
   "cell_type": "code",
   "execution_count": 43,
   "metadata": {},
   "outputs": [],
   "source": [
    "driver.get('https://bookpage.com/reviews/25683-andrzej-sapkowski-tower-fools-science-fiction-fantasy#.X52He4gzY2w')"
   ]
  },
  {
   "cell_type": "code",
   "execution_count": 44,
   "metadata": {},
   "outputs": [],
   "source": [
    "review4= []"
   ]
  },
  {
   "cell_type": "code",
   "execution_count": 45,
   "metadata": {},
   "outputs": [
    {
     "data": {
      "text/plain": [
       "[<selenium.webdriver.remote.webelement.WebElement (session=\"9e000ccb9e69a387fdbe050a4ad736d7\", element=\"3c75ef84-5a76-48f5-8210-2993240ed179\")>,\n",
       " <selenium.webdriver.remote.webelement.WebElement (session=\"9e000ccb9e69a387fdbe050a4ad736d7\", element=\"f8f32e5f-24c1-4312-ab14-63835682af3d\")>,\n",
       " <selenium.webdriver.remote.webelement.WebElement (session=\"9e000ccb9e69a387fdbe050a4ad736d7\", element=\"1035c47c-2672-43d7-9f95-04b024ede88d\")>,\n",
       " <selenium.webdriver.remote.webelement.WebElement (session=\"9e000ccb9e69a387fdbe050a4ad736d7\", element=\"2d2d2bfc-5262-4041-bafe-9c2fbd212ad2\")>,\n",
       " <selenium.webdriver.remote.webelement.WebElement (session=\"9e000ccb9e69a387fdbe050a4ad736d7\", element=\"b27e6de6-5e27-4bf3-ae4a-e7048b09bee9\")>,\n",
       " <selenium.webdriver.remote.webelement.WebElement (session=\"9e000ccb9e69a387fdbe050a4ad736d7\", element=\"067eed19-423e-43b2-bee8-8d2e25f4fff6\")>,\n",
       " <selenium.webdriver.remote.webelement.WebElement (session=\"9e000ccb9e69a387fdbe050a4ad736d7\", element=\"9dd2da6a-b1e7-4764-93af-ba530d3463f2\")>]"
      ]
     },
     "execution_count": 45,
     "metadata": {},
     "output_type": "execute_result"
    }
   ],
   "source": [
    "f=driver.find_elements_by_xpath(\"//div[@class='article-body']/p\")\n",
    "f"
   ]
  },
  {
   "cell_type": "code",
   "execution_count": 46,
   "metadata": {},
   "outputs": [
    {
     "data": {
      "text/plain": [
       "['',\n",
       " 'Take a moment and consider the last time you studied medieval European history, specifically the advent of Hussite “heresy” in the wake of John Wycliffe’s translation of the Bible into the common tongue. Focus specifically on the years between 1400 and 1440, during which the first through third anti-Hussite crusades took place. If these inquiries bring specific, vivid events to mind, then The Tower of Fools by Andrzej Sapkowski will be a fitting read for an enterprising European history enthusiast such as yourself.',\n",
       " 'Set in the powder keg of 15th-century Europe, The Tower of Fools brings readers into a richly referential world of Christian history as it casually dissects the events leading to the Protestant Reformation. Often Sapkowski’s references come audaciously close breaking the fourth wall (a character quite literally references nailing theses to a wall while coincidentally owning a cat named Luther). These references are spearheaded by our protagonist, Reinmar of Bielawa, who is an infamous seducer of married women and also a doctor, a student and a mage.',\n",
       " 'While the book is strongly grounded in the real events and politics of Catholic history in Europe, Sapkowski delights in depicting a range of magical abilities and creatures in his version of medieval Europe. His characters encounter the supernatural in a fairly believable way: with heavy skepticism, then fear, then denial and then, finally, acceptance. Magic, witchcraft and magical creatures enter and exit the story with such abruptness that neither readers nor characters have time to digest the last before the second appears before them. The supernatural elements, however, are not the primary crux of the story. The Tower of Fools deploys irony with the grace of a stampeding elephant, and, as such, our story centers on the king of fools, Reinmar. Reinmar embarks on a journey in which every wise character, force of nature, twist of fate and clear sign from God attempts to dissuade him from pursuing who Reinmar believes is his one true love, Adele. Adele is, naturally, a married woman, and Reinmar meets a motley crew of miscreants during his harrowing quest for her love.',\n",
       " 'The Tower of Fools clearly sets up for a series but provides ample entertainment as a standalone story. Sapkowski’s primary draw is his ability to weave rich historical context with a complex atmosphere of magic and superstition. The central characters are merely points of view that provide the reader a detailed perspective of the world; Reinmar and company are simple characters who grow little by the end of the story. However, this simplicity services the story Sapkowski tells, providing an easy starting point for readers to navigate the complex politics and superstition of the time period. While this is certainly not a slow read, Sapkowski does dole out plot points at a methodical pace. The first 300 pages or so pass before our central triad of characters meet up, and even longer passes before the larger subplots begin to come together.',\n",
       " 'Even with a fairly extensive understanding of Catholic history, I needed to keep Google handy while reading, and at one point I looked up a map of Silesia at the narration’s not-so-subtle prompting. Sapkowski often incorporates three other languages, and occasionally up to five, in addition to English: Polish, Latin and Italian primarily, with occasional French and German. He incorporates theology from early church figures like Augustine alongside the “modern” church leaders of the early- to mid-1400s, such as Wycliffe and Jan Hus and the Roman Curia. I would strongly suggest readers take the time to look up the words and references they do not understand. If all of these languages and references scare you—good. They should. The Tower of Fools is not an easy read, but it’s quite rewarding for readers ready to take the plunge.',\n",
       " '']"
      ]
     },
     "execution_count": 46,
     "metadata": {},
     "output_type": "execute_result"
    }
   ],
   "source": [
    "for i in f:\n",
    "    ab= i.text\n",
    "    review4.append(ab)\n",
    "review4"
   ]
  },
  {
   "cell_type": "code",
   "execution_count": 47,
   "metadata": {},
   "outputs": [
    {
     "data": {
      "text/html": [
       "<div>\n",
       "<style scoped>\n",
       "    .dataframe tbody tr th:only-of-type {\n",
       "        vertical-align: middle;\n",
       "    }\n",
       "\n",
       "    .dataframe tbody tr th {\n",
       "        vertical-align: top;\n",
       "    }\n",
       "\n",
       "    .dataframe thead th {\n",
       "        text-align: right;\n",
       "    }\n",
       "</style>\n",
       "<table border=\"1\" class=\"dataframe\">\n",
       "  <thead>\n",
       "    <tr style=\"text-align: right;\">\n",
       "      <th></th>\n",
       "      <th>Review</th>\n",
       "    </tr>\n",
       "  </thead>\n",
       "  <tbody>\n",
       "    <tr>\n",
       "      <th>0</th>\n",
       "      <td></td>\n",
       "    </tr>\n",
       "    <tr>\n",
       "      <th>1</th>\n",
       "      <td>Take a moment and consider the last time you s...</td>\n",
       "    </tr>\n",
       "    <tr>\n",
       "      <th>2</th>\n",
       "      <td>Set in the powder keg of 15th-century Europe, ...</td>\n",
       "    </tr>\n",
       "    <tr>\n",
       "      <th>3</th>\n",
       "      <td>While the book is strongly grounded in the rea...</td>\n",
       "    </tr>\n",
       "    <tr>\n",
       "      <th>4</th>\n",
       "      <td>The Tower of Fools clearly sets up for a serie...</td>\n",
       "    </tr>\n",
       "    <tr>\n",
       "      <th>5</th>\n",
       "      <td>Even with a fairly extensive understanding of ...</td>\n",
       "    </tr>\n",
       "    <tr>\n",
       "      <th>6</th>\n",
       "      <td></td>\n",
       "    </tr>\n",
       "  </tbody>\n",
       "</table>\n",
       "</div>"
      ],
      "text/plain": [
       "                                              Review\n",
       "0                                                   \n",
       "1  Take a moment and consider the last time you s...\n",
       "2  Set in the powder keg of 15th-century Europe, ...\n",
       "3  While the book is strongly grounded in the rea...\n",
       "4  The Tower of Fools clearly sets up for a serie...\n",
       "5  Even with a fairly extensive understanding of ...\n",
       "6                                                   "
      ]
     },
     "execution_count": 47,
     "metadata": {},
     "output_type": "execute_result"
    }
   ],
   "source": [
    "df9=pd.DataFrame(review4)\n",
    "df9=df9.rename({0:'Review'},axis=1)\n",
    "df9"
   ]
  },
  {
   "cell_type": "code",
   "execution_count": 48,
   "metadata": {},
   "outputs": [
    {
     "data": {
      "text/html": [
       "<div>\n",
       "<style scoped>\n",
       "    .dataframe tbody tr th:only-of-type {\n",
       "        vertical-align: middle;\n",
       "    }\n",
       "\n",
       "    .dataframe tbody tr th {\n",
       "        vertical-align: top;\n",
       "    }\n",
       "\n",
       "    .dataframe thead th {\n",
       "        text-align: right;\n",
       "    }\n",
       "</style>\n",
       "<table border=\"1\" class=\"dataframe\">\n",
       "  <thead>\n",
       "    <tr style=\"text-align: right;\">\n",
       "      <th></th>\n",
       "      <th>Review</th>\n",
       "    </tr>\n",
       "  </thead>\n",
       "  <tbody>\n",
       "    <tr>\n",
       "      <th>0</th>\n",
       "      <td>Take a moment and consider the last time you ...</td>\n",
       "    </tr>\n",
       "  </tbody>\n",
       "</table>\n",
       "</div>"
      ],
      "text/plain": [
       "                                              Review\n",
       "0   Take a moment and consider the last time you ..."
      ]
     },
     "execution_count": 48,
     "metadata": {},
     "output_type": "execute_result"
    }
   ],
   "source": [
    "df9['Review']=df9['Review'].str.cat(sep=' ')\n",
    "df10=df9.iloc[:1]\n",
    "df10"
   ]
  },
  {
   "cell_type": "code",
   "execution_count": 49,
   "metadata": {},
   "outputs": [],
   "source": [
    "driver.get('https://bookpage.com/reviews/25686-rebekah-weatherspoon-if-boot-fits-romance#.X52IdYgzY2w')"
   ]
  },
  {
   "cell_type": "code",
   "execution_count": 50,
   "metadata": {},
   "outputs": [],
   "source": [
    "review5= []"
   ]
  },
  {
   "cell_type": "code",
   "execution_count": 51,
   "metadata": {},
   "outputs": [
    {
     "data": {
      "text/plain": [
       "[<selenium.webdriver.remote.webelement.WebElement (session=\"9e000ccb9e69a387fdbe050a4ad736d7\", element=\"6733678b-8acc-418c-b340-06427379df7d\")>,\n",
       " <selenium.webdriver.remote.webelement.WebElement (session=\"9e000ccb9e69a387fdbe050a4ad736d7\", element=\"8f20ab91-5e68-406d-a02e-7f87b01aacf8\")>,\n",
       " <selenium.webdriver.remote.webelement.WebElement (session=\"9e000ccb9e69a387fdbe050a4ad736d7\", element=\"6bacaf06-59c5-400c-888e-a1d93dfeabe3\")>,\n",
       " <selenium.webdriver.remote.webelement.WebElement (session=\"9e000ccb9e69a387fdbe050a4ad736d7\", element=\"03a29796-926c-4694-8412-de5f4fd1980d\")>,\n",
       " <selenium.webdriver.remote.webelement.WebElement (session=\"9e000ccb9e69a387fdbe050a4ad736d7\", element=\"60714319-4d97-4dd1-a33c-1fefe5ae9c39\")>,\n",
       " <selenium.webdriver.remote.webelement.WebElement (session=\"9e000ccb9e69a387fdbe050a4ad736d7\", element=\"4459bb48-48ac-42b3-9ff0-3a4922206d37\")>,\n",
       " <selenium.webdriver.remote.webelement.WebElement (session=\"9e000ccb9e69a387fdbe050a4ad736d7\", element=\"255483c0-8d8f-46af-9759-a830f2c01952\")>,\n",
       " <selenium.webdriver.remote.webelement.WebElement (session=\"9e000ccb9e69a387fdbe050a4ad736d7\", element=\"9d2b665b-7e55-44b5-9ae7-a767f7ca6f5e\")>,\n",
       " <selenium.webdriver.remote.webelement.WebElement (session=\"9e000ccb9e69a387fdbe050a4ad736d7\", element=\"83b03712-3e57-4a8f-9bb6-0db4e958ee68\")>]"
      ]
     },
     "execution_count": 51,
     "metadata": {},
     "output_type": "execute_result"
    }
   ],
   "source": [
    "h=driver.find_elements_by_xpath(\"//div[@class='article-body']/p\")\n",
    "h"
   ]
  },
  {
   "cell_type": "code",
   "execution_count": 52,
   "metadata": {},
   "outputs": [
    {
     "data": {
      "text/plain": [
       "['',\n",
       " 'One of romance’s brightest stars, Rebekah Weatherspoon is known for her sweet and steamy stories. With If the Boot Fits, the second in the Cowboys of California series, she  burnishes that reputation further, delivering a thoroughly modern Cinderella story about an aspiring screenwriter hesitantly falling for a sexy, celebrity, cinnamon-roll-sweet hero with swagger.',\n",
       " 'Weatherspoon deftly translates the classic rags to riches fairy tale’s core elements into a 21st-century context. As an overworked and underappreciated assistant, Amanda McQueen is the perfect contemporary equivalent of a put-upon poor relation—an invisible underling with proximity to the glitter and glam of Hollywood, but no meaningful access. Cinderella’s stepsisters and wicked stepmother have merged into a single figure, the pampered and punitive starlet Dru Anastasia, who uses Amanda as an emotional sounding board but provides little pay and no respect in return. Sam Pleasant, a former cowboy and scion of a venerable Black Hollywood family, makes an excellent 21st-century prince, and the Vanity Fair Oscar party easily stands in for a royal ball.',\n",
       " 'While it’s great fun to see this fantasy transformed, the relationship between Amanda and Sam is the beating heart of the story, and the way their connection develops is brand new. After all, Cinderella and Prince Charming didn’t hook up after the ball. Also new is Amanda’s irreverence and incredulity the morning after, when she wakes up in a hotel room and can’t help but think, “The night before must have been a dream.” Her mind boggles as she contemplates the series of events that led from the Vanity Fair Oscar party to an A-list after-party, and, eventually, to Sam’s bed. Her conclusion: “There was no way. . . . There was absolutely no freaking way she’d run into Samuel Pleasant at both events, and surely you’d be joking if you told her that sometime in the night she and Sam had completely hit it off.”',\n",
       " 'This is Amanda’s voice throughout— lively, skeptical and incredibly relatable. Thinking this can’t happen or it’s just one night is incredibly freeing, and Amanda could use some freedom from her grind. One moment, she and Sam are having fun, with no names exchanged and no expectations. The next, he’s asking for her name in the middle of her “enthusiastic rendition of the cha-cha slide.” But she’s still skeptical, so she plays it cool and keeps it moving. “Sorry, I can’t hear you. I’m dancing,” is Amanda’s reply, and she assumes that’s that.',\n",
       " 'It’s a joy to read those initial scenes and watch Sam and Amanda’s warring instincts battle it out. Weatherspoon creates vivid, specific characters and gives them wonderful interior lives and excellent banter. Their romance begins with that one-night stand, and the initial spark grows through a shared sense of fun, common values and tastes. Sam recognizes something in Amanda, and he invites her into his home and his inner circle without hesitation.',\n",
       " 'It should be obvious that they belong together, and yet, despite the chemistry and all their commonalities, according to the conventions of Hollywood, romantic fiction and fairy tales, Sam and Amanda qualify as an “unlikely couple,” defying major societal norms. Sam comes from a wealthy family and has just won an Academy Award, whereas Amanda is “a D-list actress’s lowly assistant” who is struggling to find her footing in the entertainment industry and to just make her rent each month. And even though they’re both African American, Amanda is a beautiful, dark-skinned, plus-size Black woman. In a culture that still holds fast to narrow definitions of what constitutes beauty, this reduces her status and eligibility. To be clear, Amanda has confidence in her talent and her looks. She’s also very aware, however, and sometimes overtly reminded, that successful Black women in Hollywood don’t often look like her. The contrast to her boss, Dru, a thin, light-skinned biracial woman, is especially prominent.',\n",
       " 'It’s not often that distinctions like this are directly challenged on the page in traditionally published romance, and Weatherspoon handles it all with grace, allowing discomfiting truths and subtle social critique to emerge organically from the events of the story. Conflicts around class, color and size are just part of this romance, however. It’s really about character and family. Though If the Boot Fits places Amanda in a professional context in which she cannot fully escape toxic standards, much of the central relationship develops on Sam’s ranch, a hundred miles away from the image-obsessed center of the storm. As a result, their love story never feels didactic and the romance never gets weighed down. There’s warmth and lightness throughout this very contemporary, yet ultimately classically romantic retelling—Amanda thrives on the support from her own friends and family, and Sam’s family may be Black Hollywood royalty, but they’re also grounded, kind human beings, who embrace her and remind her of home. Readers who want romance to explore some of the real issues that women like Amanda face and see her beautifully celebrated and cherished will absolutely adore this book.',\n",
       " '']"
      ]
     },
     "execution_count": 52,
     "metadata": {},
     "output_type": "execute_result"
    }
   ],
   "source": [
    "for i in h:\n",
    "    abc= i.text\n",
    "    review5.append(abc)\n",
    "review5"
   ]
  },
  {
   "cell_type": "code",
   "execution_count": 53,
   "metadata": {},
   "outputs": [
    {
     "data": {
      "text/html": [
       "<div>\n",
       "<style scoped>\n",
       "    .dataframe tbody tr th:only-of-type {\n",
       "        vertical-align: middle;\n",
       "    }\n",
       "\n",
       "    .dataframe tbody tr th {\n",
       "        vertical-align: top;\n",
       "    }\n",
       "\n",
       "    .dataframe thead th {\n",
       "        text-align: right;\n",
       "    }\n",
       "</style>\n",
       "<table border=\"1\" class=\"dataframe\">\n",
       "  <thead>\n",
       "    <tr style=\"text-align: right;\">\n",
       "      <th></th>\n",
       "      <th>Review</th>\n",
       "    </tr>\n",
       "  </thead>\n",
       "  <tbody>\n",
       "    <tr>\n",
       "      <th>0</th>\n",
       "      <td></td>\n",
       "    </tr>\n",
       "    <tr>\n",
       "      <th>1</th>\n",
       "      <td>One of romance’s brightest stars, Rebekah Weat...</td>\n",
       "    </tr>\n",
       "    <tr>\n",
       "      <th>2</th>\n",
       "      <td>Weatherspoon deftly translates the classic rag...</td>\n",
       "    </tr>\n",
       "    <tr>\n",
       "      <th>3</th>\n",
       "      <td>While it’s great fun to see this fantasy trans...</td>\n",
       "    </tr>\n",
       "    <tr>\n",
       "      <th>4</th>\n",
       "      <td>This is Amanda’s voice throughout— lively, ske...</td>\n",
       "    </tr>\n",
       "    <tr>\n",
       "      <th>5</th>\n",
       "      <td>It’s a joy to read those initial scenes and wa...</td>\n",
       "    </tr>\n",
       "    <tr>\n",
       "      <th>6</th>\n",
       "      <td>It should be obvious that they belong together...</td>\n",
       "    </tr>\n",
       "    <tr>\n",
       "      <th>7</th>\n",
       "      <td>It’s not often that distinctions like this are...</td>\n",
       "    </tr>\n",
       "    <tr>\n",
       "      <th>8</th>\n",
       "      <td></td>\n",
       "    </tr>\n",
       "  </tbody>\n",
       "</table>\n",
       "</div>"
      ],
      "text/plain": [
       "                                              Review\n",
       "0                                                   \n",
       "1  One of romance’s brightest stars, Rebekah Weat...\n",
       "2  Weatherspoon deftly translates the classic rag...\n",
       "3  While it’s great fun to see this fantasy trans...\n",
       "4  This is Amanda’s voice throughout— lively, ske...\n",
       "5  It’s a joy to read those initial scenes and wa...\n",
       "6  It should be obvious that they belong together...\n",
       "7  It’s not often that distinctions like this are...\n",
       "8                                                   "
      ]
     },
     "execution_count": 53,
     "metadata": {},
     "output_type": "execute_result"
    }
   ],
   "source": [
    "df11=pd.DataFrame(review5)\n",
    "df11=df11.rename({0:'Review'},axis=1)\n",
    "df11"
   ]
  },
  {
   "cell_type": "code",
   "execution_count": 54,
   "metadata": {},
   "outputs": [
    {
     "data": {
      "text/html": [
       "<div>\n",
       "<style scoped>\n",
       "    .dataframe tbody tr th:only-of-type {\n",
       "        vertical-align: middle;\n",
       "    }\n",
       "\n",
       "    .dataframe tbody tr th {\n",
       "        vertical-align: top;\n",
       "    }\n",
       "\n",
       "    .dataframe thead th {\n",
       "        text-align: right;\n",
       "    }\n",
       "</style>\n",
       "<table border=\"1\" class=\"dataframe\">\n",
       "  <thead>\n",
       "    <tr style=\"text-align: right;\">\n",
       "      <th></th>\n",
       "      <th>Review</th>\n",
       "    </tr>\n",
       "  </thead>\n",
       "  <tbody>\n",
       "    <tr>\n",
       "      <th>0</th>\n",
       "      <td>One of romance’s brightest stars, Rebekah Wea...</td>\n",
       "    </tr>\n",
       "  </tbody>\n",
       "</table>\n",
       "</div>"
      ],
      "text/plain": [
       "                                              Review\n",
       "0   One of romance’s brightest stars, Rebekah Wea..."
      ]
     },
     "execution_count": 54,
     "metadata": {},
     "output_type": "execute_result"
    }
   ],
   "source": [
    "df11['Review']=df11['Review'].str.cat(sep=' ')\n",
    "df12=df11.iloc[:1]\n",
    "df12"
   ]
  },
  {
   "cell_type": "code",
   "execution_count": 55,
   "metadata": {},
   "outputs": [
    {
     "data": {
      "text/html": [
       "<div>\n",
       "<style scoped>\n",
       "    .dataframe tbody tr th:only-of-type {\n",
       "        vertical-align: middle;\n",
       "    }\n",
       "\n",
       "    .dataframe tbody tr th {\n",
       "        vertical-align: top;\n",
       "    }\n",
       "\n",
       "    .dataframe thead th {\n",
       "        text-align: right;\n",
       "    }\n",
       "</style>\n",
       "<table border=\"1\" class=\"dataframe\">\n",
       "  <thead>\n",
       "    <tr style=\"text-align: right;\">\n",
       "      <th></th>\n",
       "      <th>Review</th>\n",
       "    </tr>\n",
       "  </thead>\n",
       "  <tbody>\n",
       "    <tr>\n",
       "      <th>0</th>\n",
       "      <td>“This book is a diary of my parents’ decline....</td>\n",
       "    </tr>\n",
       "    <tr>\n",
       "      <th>1</th>\n",
       "      <td>Jess Walter’s first novel in eight years arri...</td>\n",
       "    </tr>\n",
       "    <tr>\n",
       "      <th>2</th>\n",
       "      <td>Though this book is categorized as a novel, t...</td>\n",
       "    </tr>\n",
       "    <tr>\n",
       "      <th>3</th>\n",
       "      <td>Take a moment and consider the last time you ...</td>\n",
       "    </tr>\n",
       "    <tr>\n",
       "      <th>4</th>\n",
       "      <td>One of romance’s brightest stars, Rebekah Wea...</td>\n",
       "    </tr>\n",
       "  </tbody>\n",
       "</table>\n",
       "</div>"
      ],
      "text/plain": [
       "                                              Review\n",
       "0   “This book is a diary of my parents’ decline....\n",
       "1   Jess Walter’s first novel in eight years arri...\n",
       "2   Though this book is categorized as a novel, t...\n",
       "3   Take a moment and consider the last time you ...\n",
       "4   One of romance’s brightest stars, Rebekah Wea..."
      ]
     },
     "execution_count": 55,
     "metadata": {},
     "output_type": "execute_result"
    }
   ],
   "source": [
    "df13=pd.concat([df4,df6,df8,df10,df12],axis=0)\n",
    "df13=df13.reset_index(drop=True)\n",
    "df13"
   ]
  },
  {
   "cell_type": "code",
   "execution_count": 56,
   "metadata": {},
   "outputs": [
    {
     "data": {
      "text/html": [
       "<div>\n",
       "<style scoped>\n",
       "    .dataframe tbody tr th:only-of-type {\n",
       "        vertical-align: middle;\n",
       "    }\n",
       "\n",
       "    .dataframe tbody tr th {\n",
       "        vertical-align: top;\n",
       "    }\n",
       "\n",
       "    .dataframe thead th {\n",
       "        text-align: right;\n",
       "    }\n",
       "</style>\n",
       "<table border=\"1\" class=\"dataframe\">\n",
       "  <thead>\n",
       "    <tr style=\"text-align: right;\">\n",
       "      <th></th>\n",
       "      <th>Book Name</th>\n",
       "      <th>Author_Name</th>\n",
       "      <th>Genre</th>\n",
       "      <th>Review</th>\n",
       "    </tr>\n",
       "  </thead>\n",
       "  <tbody>\n",
       "    <tr>\n",
       "      <th>0</th>\n",
       "      <td>[The Kidnapping Club]</td>\n",
       "      <td>Jonathan Daniel Wells</td>\n",
       "      <td>Nonfiction  /  American History  /  African A...</td>\n",
       "      <td>“This book is a diary of my parents’ decline....</td>\n",
       "    </tr>\n",
       "    <tr>\n",
       "      <th>1</th>\n",
       "      <td>[Cobble Hill]</td>\n",
       "      <td>Cecily von Ziegesar</td>\n",
       "      <td>Fiction  /  Popular Fiction</td>\n",
       "      <td>Jess Walter’s first novel in eight years arri...</td>\n",
       "    </tr>\n",
       "    <tr>\n",
       "      <th>2</th>\n",
       "      <td>[ , [★ ], The Zealot and the Emancipator]</td>\n",
       "      <td>H.W. Brands</td>\n",
       "      <td>Nonfiction  /  History  /  American History</td>\n",
       "      <td>Though this book is categorized as a novel, t...</td>\n",
       "    </tr>\n",
       "    <tr>\n",
       "      <th>3</th>\n",
       "      <td>[ , [★ ], A Walk Around the Block]</td>\n",
       "      <td>Spike Carlsen</td>\n",
       "      <td>Nonfiction  /  Science &amp; Nature</td>\n",
       "      <td>Take a moment and consider the last time you ...</td>\n",
       "    </tr>\n",
       "    <tr>\n",
       "      <th>4</th>\n",
       "      <td>[Shadows of the Short Days]</td>\n",
       "      <td>Alexander Dan Vilhjálmsson</td>\n",
       "      <td>Science Fiction &amp; Fantasy  /  Fantasy</td>\n",
       "      <td>One of romance’s brightest stars, Rebekah Wea...</td>\n",
       "    </tr>\n",
       "  </tbody>\n",
       "</table>\n",
       "</div>"
      ],
      "text/plain": [
       "                                   Book Name                   Author_Name  \\\n",
       "0                      [The Kidnapping Club]        Jonathan Daniel Wells    \n",
       "1                              [Cobble Hill]          Cecily von Ziegesar    \n",
       "2  [ , [★ ], The Zealot and the Emancipator]                  H.W. Brands    \n",
       "3         [ , [★ ], A Walk Around the Block]                Spike Carlsen    \n",
       "4                [Shadows of the Short Days]   Alexander Dan Vilhjálmsson    \n",
       "\n",
       "                                               Genre  \\\n",
       "0   Nonfiction  /  American History  /  African A...   \n",
       "1                       Fiction  /  Popular Fiction    \n",
       "2       Nonfiction  /  History  /  American History    \n",
       "3                   Nonfiction  /  Science & Nature    \n",
       "4             Science Fiction & Fantasy  /  Fantasy    \n",
       "\n",
       "                                              Review  \n",
       "0   “This book is a diary of my parents’ decline....  \n",
       "1   Jess Walter’s first novel in eight years arri...  \n",
       "2   Though this book is categorized as a novel, t...  \n",
       "3   Take a moment and consider the last time you ...  \n",
       "4   One of romance’s brightest stars, Rebekah Wea...  "
      ]
     },
     "execution_count": 56,
     "metadata": {},
     "output_type": "execute_result"
    }
   ],
   "source": [
    "Bookpage_Books=pd.concat([Bookpage,df13],axis=1)\n",
    "Bookpage_Books"
   ]
  },
  {
   "cell_type": "markdown",
   "metadata": {},
   "source": [
    "# Saving the Data into CSV file"
   ]
  },
  {
   "cell_type": "code",
   "execution_count": 57,
   "metadata": {},
   "outputs": [],
   "source": [
    "Bookpage_Books.to_csv('Bookpage_Books_Overview.csv')"
   ]
  },
  {
   "cell_type": "code",
   "execution_count": null,
   "metadata": {},
   "outputs": [],
   "source": []
  }
 ],
 "metadata": {
  "kernelspec": {
   "display_name": "Python 3",
   "language": "python",
   "name": "python3"
  },
  "language_info": {
   "codemirror_mode": {
    "name": "ipython",
    "version": 3
   },
   "file_extension": ".py",
   "mimetype": "text/x-python",
   "name": "python",
   "nbconvert_exporter": "python",
   "pygments_lexer": "ipython3",
   "version": "3.7.6"
  }
 },
 "nbformat": 4,
 "nbformat_minor": 4
}
