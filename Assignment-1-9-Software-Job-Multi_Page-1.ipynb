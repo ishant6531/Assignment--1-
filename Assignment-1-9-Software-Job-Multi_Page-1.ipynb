{
 "cells": [
  {
   "cell_type": "markdown",
   "metadata": {},
   "source": [
    "# Write a python program to scrape ‘software developer’ job listings from ‘Monster.com’. \n"
   ]
  },
  {
   "cell_type": "markdown",
   "metadata": {},
   "source": [
    "#It should include all the jobs listed for the next 5 pages."
   ]
  },
  {
   "cell_type": "code",
   "execution_count": 1,
   "metadata": {},
   "outputs": [],
   "source": [
    "# import libraries\n",
    "from bs4 import BeautifulSoup\n",
    "import numpy as np\n",
    "from time import sleep\n",
    "from random import randint\n",
    "import pandas as pd\n",
    "from selenium import webdriver"
   ]
  },
  {
   "cell_type": "code",
   "execution_count": 178,
   "metadata": {},
   "outputs": [],
   "source": [
    "#  code for the scraping of 5 pages \n",
    "\n",
    "###########################\n",
    "# Loop of all the pages\n",
    "###########################\n",
    "\n",
    "#Loop to go over all pages\n",
    "pages = np.arange(1, 151, 25)\n",
    "Job_Name=[]\n",
    "Company_Name= []\n",
    "Location=[]\n",
    "\n",
    "\n",
    "\n",
    "for page in pages:\n",
    "    \n",
    "    \n",
    "    page=\"https://www.monsterindia.com/srp/results?start=\" + str(page) + \"&sort=1&limit=25&query=software%20developer&searchId=c80f9184-1d1f-4be5-bd1c-4d72ac67d089\"\n",
    "    driver = webdriver.Chrome(r\"C:\\Users\\thunderbolt\\sof\\chromedriver.exe\")\n",
    "    driver.get(page)  \n",
    "    sleep(randint(2,10))\n",
    "    soup = BeautifulSoup(driver.page_source, 'html.parser')\n",
    "    \n",
    "    \n",
    "    my_table = soup.find_all('span' , class_='company-name') if soup.find_all('span', class_='company-name') else '-'\n",
    "\n",
    "    for tag in my_table:\n",
    "        Company_Name.append(tag.get_text())\n",
    "        \n",
    "        \n",
    "\n",
    "        \n",
    "        \n",
    "    hb = soup.find_all('div' , class_='col-xxs-12 col-sm-5 text-ellipsis')  if soup.find_all('div', class_='col-xxs-12 col-sm-5 text-ellipsis') else '-'\n",
    "    \n",
    "    for tb in  hb:\n",
    "        Location.append(tb.get_text())\n",
    "        \n",
    "        \n",
    "    lo= soup.find_all('h3' , class_='medium') if soup.find_all('h3', class_='medium') else '-'\n",
    "    \n",
    "    for hj in lo:\n",
    "        Job_Name.append(hj.get_text())\n",
    "        \n"
   ]
  },
  {
   "cell_type": "code",
   "execution_count": 182,
   "metadata": {},
   "outputs": [],
   "source": [
    "# Creating DataFrame to  store all values.\n",
    "Software_jobs = pd.DataFrame({\n",
    "'Company Name': Company_Name,\n",
    "    'Job Name': Job_Name,\n",
    "'Location': Location\n",
    "\n",
    "})"
   ]
  },
  {
   "cell_type": "code",
   "execution_count": 186,
   "metadata": {},
   "outputs": [],
   "source": [
    "Software_jobs['Location']=Software_jobs['Location'].str.replace(\"\\n\" , \" \")"
   ]
  },
  {
   "cell_type": "markdown",
   "metadata": {},
   "source": [
    "# Data of Software Jobs "
   ]
  },
  {
   "cell_type": "code",
   "execution_count": 187,
   "metadata": {},
   "outputs": [
    {
     "data": {
      "text/html": [
       "<div>\n",
       "<style scoped>\n",
       "    .dataframe tbody tr th:only-of-type {\n",
       "        vertical-align: middle;\n",
       "    }\n",
       "\n",
       "    .dataframe tbody tr th {\n",
       "        vertical-align: top;\n",
       "    }\n",
       "\n",
       "    .dataframe thead th {\n",
       "        text-align: right;\n",
       "    }\n",
       "</style>\n",
       "<table border=\"1\" class=\"dataframe\">\n",
       "  <thead>\n",
       "    <tr style=\"text-align: right;\">\n",
       "      <th></th>\n",
       "      <th>Company Name</th>\n",
       "      <th>Job Name</th>\n",
       "      <th>Location</th>\n",
       "    </tr>\n",
       "  </thead>\n",
       "  <tbody>\n",
       "    <tr>\n",
       "      <th>0</th>\n",
       "      <td>Ksolves India Limited</td>\n",
       "      <td>Software Developer - Immediate Joiner</td>\n",
       "      <td>Noida       ...</td>\n",
       "    </tr>\n",
       "    <tr>\n",
       "      <th>1</th>\n",
       "      <td>VIENNA IT SOLUTIONS PVT LTD</td>\n",
       "      <td>Immediate hiring for Software Developers / Sr....</td>\n",
       "      <td>Mohali, Chan...</td>\n",
       "    </tr>\n",
       "    <tr>\n",
       "      <th>2</th>\n",
       "      <td>Gunank Technologies Private Limited</td>\n",
       "      <td>Software Developer</td>\n",
       "      <td>Singrauli   ...</td>\n",
       "    </tr>\n",
       "    <tr>\n",
       "      <th>3</th>\n",
       "      <td>Manheer Singh (Proprietor Of BigBoss Decor)</td>\n",
       "      <td>Software Developer</td>\n",
       "      <td>Mohali      ...</td>\n",
       "    </tr>\n",
       "    <tr>\n",
       "      <th>4</th>\n",
       "      <td>Company Name Confidential</td>\n",
       "      <td>Software Developer, Dot Net Programmer Dot Net...</td>\n",
       "      <td>Mumbai, Pune...</td>\n",
       "    </tr>\n",
       "    <tr>\n",
       "      <th>...</th>\n",
       "      <td>...</td>\n",
       "      <td>...</td>\n",
       "      <td>...</td>\n",
       "    </tr>\n",
       "    <tr>\n",
       "      <th>145</th>\n",
       "      <td>TRANSVISION SOFTWARE AND DATA SOLUTIONS PVT LTD</td>\n",
       "      <td>URGENT REQUIRED 15 JAVA DEVELOPERS (FRESHER) F...</td>\n",
       "      <td>Bengaluru / ...</td>\n",
       "    </tr>\n",
       "    <tr>\n",
       "      <th>146</th>\n",
       "      <td>Dtech World</td>\n",
       "      <td>Software Developer</td>\n",
       "      <td>Pune        ...</td>\n",
       "    </tr>\n",
       "    <tr>\n",
       "      <th>147</th>\n",
       "      <td>MITS Solution</td>\n",
       "      <td>Guidewire Developer</td>\n",
       "      <td>Chennai, Hyd...</td>\n",
       "    </tr>\n",
       "    <tr>\n",
       "      <th>148</th>\n",
       "      <td>MITS Solution</td>\n",
       "      <td>AWS Architecture</td>\n",
       "      <td>Chennai, Hyd...</td>\n",
       "    </tr>\n",
       "    <tr>\n",
       "      <th>149</th>\n",
       "      <td>MITS Solution</td>\n",
       "      <td>Guidewire Developer</td>\n",
       "      <td>Chennai, Hyd...</td>\n",
       "    </tr>\n",
       "  </tbody>\n",
       "</table>\n",
       "<p>150 rows × 3 columns</p>\n",
       "</div>"
      ],
      "text/plain": [
       "                                        Company Name  \\\n",
       "0                              Ksolves India Limited   \n",
       "1                        VIENNA IT SOLUTIONS PVT LTD   \n",
       "2                Gunank Technologies Private Limited   \n",
       "3        Manheer Singh (Proprietor Of BigBoss Decor)   \n",
       "4                          Company Name Confidential   \n",
       "..                                               ...   \n",
       "145  TRANSVISION SOFTWARE AND DATA SOLUTIONS PVT LTD   \n",
       "146                                      Dtech World   \n",
       "147                                    MITS Solution   \n",
       "148                                    MITS Solution   \n",
       "149                                    MITS Solution   \n",
       "\n",
       "                                              Job Name  \\\n",
       "0               Software Developer - Immediate Joiner    \n",
       "1    Immediate hiring for Software Developers / Sr....   \n",
       "2                                 Software Developer     \n",
       "3                                  Software Developer    \n",
       "4    Software Developer, Dot Net Programmer Dot Net...   \n",
       "..                                                 ...   \n",
       "145  URGENT REQUIRED 15 JAVA DEVELOPERS (FRESHER) F...   \n",
       "146                                Software Developer    \n",
       "147                              Guidewire Developer     \n",
       "148                                  AWS Architecture    \n",
       "149                              Guidewire Developer     \n",
       "\n",
       "                                              Location  \n",
       "0                                      Noida       ...  \n",
       "1                                      Mohali, Chan...  \n",
       "2                                      Singrauli   ...  \n",
       "3                                      Mohali      ...  \n",
       "4                                      Mumbai, Pune...  \n",
       "..                                                 ...  \n",
       "145                                    Bengaluru / ...  \n",
       "146                                    Pune        ...  \n",
       "147                                    Chennai, Hyd...  \n",
       "148                                    Chennai, Hyd...  \n",
       "149                                    Chennai, Hyd...  \n",
       "\n",
       "[150 rows x 3 columns]"
      ]
     },
     "execution_count": 187,
     "metadata": {},
     "output_type": "execute_result"
    }
   ],
   "source": [
    "Software_jobs"
   ]
  },
  {
   "cell_type": "markdown",
   "metadata": {},
   "source": [
    "# saving file to csv "
   ]
  },
  {
   "cell_type": "code",
   "execution_count": 188,
   "metadata": {},
   "outputs": [],
   "source": [
    "Software_jobs.to_csv('Software_Jobs')"
   ]
  },
  {
   "cell_type": "code",
   "execution_count": null,
   "metadata": {},
   "outputs": [],
   "source": []
  }
 ],
 "metadata": {
  "kernelspec": {
   "display_name": "Python 3",
   "language": "python",
   "name": "python3"
  },
  "language_info": {
   "codemirror_mode": {
    "name": "ipython",
    "version": 3
   },
   "file_extension": ".py",
   "mimetype": "text/x-python",
   "name": "python",
   "nbconvert_exporter": "python",
   "pygments_lexer": "ipython3",
   "version": "3.7.6"
  }
 },
 "nbformat": 4,
 "nbformat_minor": 4
}
