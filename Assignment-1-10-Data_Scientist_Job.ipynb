{
 "cells": [
  {
   "cell_type": "markdown",
   "metadata": {},
   "source": [
    "# Write a python program to scrape ‘data scientist’ job listings for location ‘New Delhi’ from ‘Monster.com’. \n",
    "It should include all the jobs listed for the next 5 pages."
   ]
  },
  {
   "cell_type": "markdown",
   "metadata": {},
   "source": [
    "Note :- In this assignment we were asked to webscrap 5 page , but in Monster.com result was available of only  1 page so we have scrap only 1 page."
   ]
  },
  {
   "cell_type": "code",
   "execution_count": 482,
   "metadata": {},
   "outputs": [],
   "source": [
    "#Importing Library\n",
    "import selenium\n",
    "import pandas as pd\n",
    "from selenium import webdriver"
   ]
  },
  {
   "cell_type": "code",
   "execution_count": 483,
   "metadata": {},
   "outputs": [],
   "source": [
    "# Loading Driver\n",
    "driver = webdriver.Chrome(r\"C:\\Users\\thunderbolt\\sof\\chromedriver.exe\")"
   ]
  },
  {
   "cell_type": "code",
   "execution_count": 484,
   "metadata": {},
   "outputs": [],
   "source": [
    "#Giving website address of the page we have to scrap.\n",
    "url='https://www.monsterindia.com/srp/results?query=Data%20Scientist&locations=Delhi&filter=true&searchId=eb5204d1-3e34-423e-a98d-2d07dfcb5275'"
   ]
  },
  {
   "cell_type": "code",
   "execution_count": 485,
   "metadata": {},
   "outputs": [],
   "source": [
    "driver.get(url)"
   ]
  },
  {
   "cell_type": "code",
   "execution_count": 486,
   "metadata": {},
   "outputs": [],
   "source": [
    "Job=[]\n",
    "Company=[]\n",
    "Location=[]\n",
    "Year= []\n",
    "Salary=[]"
   ]
  },
  {
   "cell_type": "code",
   "execution_count": 487,
   "metadata": {},
   "outputs": [],
   "source": [
    "loc=driver.find_elements_by_xpath(\"//h3[@class='medium']\")"
   ]
  },
  {
   "cell_type": "code",
   "execution_count": 488,
   "metadata": {},
   "outputs": [
    {
     "data": {
      "text/plain": [
       "[<selenium.webdriver.remote.webelement.WebElement (session=\"ab0901ae4bcd36c2fa2f7847ae1e01a9\", element=\"efc8b3b9-6cca-4072-a784-a04d4cd76817\")>,\n",
       " <selenium.webdriver.remote.webelement.WebElement (session=\"ab0901ae4bcd36c2fa2f7847ae1e01a9\", element=\"e0eddefc-4b99-4e68-80db-4983f5b20278\")>,\n",
       " <selenium.webdriver.remote.webelement.WebElement (session=\"ab0901ae4bcd36c2fa2f7847ae1e01a9\", element=\"46fcdb9b-7813-4402-a3f8-8bfb136b336b\")>,\n",
       " <selenium.webdriver.remote.webelement.WebElement (session=\"ab0901ae4bcd36c2fa2f7847ae1e01a9\", element=\"c71e776f-a9ff-4fea-95bf-6085edc142d0\")>,\n",
       " <selenium.webdriver.remote.webelement.WebElement (session=\"ab0901ae4bcd36c2fa2f7847ae1e01a9\", element=\"6fe6d54b-0a27-4706-aa63-f0c73e7a030c\")>]"
      ]
     },
     "execution_count": 488,
     "metadata": {},
     "output_type": "execute_result"
    }
   ],
   "source": [
    "loc[0:5]"
   ]
  },
  {
   "cell_type": "code",
   "execution_count": 489,
   "metadata": {},
   "outputs": [
    {
     "data": {
      "text/plain": [
       "['Data Analyst / Fresher / Data Scientist / Graduate Fresher - MNC - 7303778896 | 9560245147',\n",
       " 'Data Analyst / Fresher / Data Scientist / Graduate Fresher - MNC - 7303778896 | 9560245147',\n",
       " 'Data Analyst – Fresher – Data Scientist – Any Graduate - Fresher 6397800351 | 9717266846',\n",
       " 'Data Analyst / Fresher / Data Scientist / Graduate Fresher - MNC - 7303778896 | 9560245147',\n",
       " 'Data Analyst – Fresher – Data Scientist – Graduate - Fresher 7303778896 | 9560245147 | 6397800351']"
      ]
     },
     "execution_count": 489,
     "metadata": {},
     "output_type": "execute_result"
    }
   ],
   "source": [
    "# Getting Job Details data\n",
    "for i  in loc:\n",
    "    Locat=i.text\n",
    "    Job.append(Locat)\n",
    "Job[0:5]"
   ]
  },
  {
   "cell_type": "code",
   "execution_count": 490,
   "metadata": {},
   "outputs": [
    {
     "data": {
      "text/plain": [
       "[<selenium.webdriver.remote.webelement.WebElement (session=\"ab0901ae4bcd36c2fa2f7847ae1e01a9\", element=\"5a2947f0-82b5-4325-8832-f4a69b398ffd\")>,\n",
       " <selenium.webdriver.remote.webelement.WebElement (session=\"ab0901ae4bcd36c2fa2f7847ae1e01a9\", element=\"ec0b1d11-ce4c-4dfb-9ba5-f9d5bbdddde4\")>,\n",
       " <selenium.webdriver.remote.webelement.WebElement (session=\"ab0901ae4bcd36c2fa2f7847ae1e01a9\", element=\"7ccef791-b9a8-42ba-afd2-6d18fb24f3dc\")>,\n",
       " <selenium.webdriver.remote.webelement.WebElement (session=\"ab0901ae4bcd36c2fa2f7847ae1e01a9\", element=\"1f9c3931-299e-45eb-a3b8-48cf56f2ba6a\")>,\n",
       " <selenium.webdriver.remote.webelement.WebElement (session=\"ab0901ae4bcd36c2fa2f7847ae1e01a9\", element=\"8d754e4c-7ebd-47d5-93b2-4b6916750703\")>]"
      ]
     },
     "execution_count": 490,
     "metadata": {},
     "output_type": "execute_result"
    }
   ],
   "source": [
    "jo=driver.find_elements_by_xpath(\"//span[@class='company-name']\")\n",
    "jo[0:5]"
   ]
  },
  {
   "cell_type": "code",
   "execution_count": 491,
   "metadata": {},
   "outputs": [
    {
     "data": {
      "text/plain": [
       "['Structured Learning Assistance Consultants India Private Limited',\n",
       " 'Structured Learning Assistance Consultants India Private Limited',\n",
       " 'Structured Learning Assistance Consultants India Private Limited',\n",
       " 'Structured Learning Assistance Consultants India Private Limited',\n",
       " 'Structured Learning Assistance Consultants India Private Limited']"
      ]
     },
     "execution_count": 491,
     "metadata": {},
     "output_type": "execute_result"
    }
   ],
   "source": [
    "# Getting Company Name Data\n",
    "for hi in jo:\n",
    "    po=hi.text\n",
    "    Company.append(po)\n",
    "Company[0:5]"
   ]
  },
  {
   "cell_type": "code",
   "execution_count": 492,
   "metadata": {},
   "outputs": [],
   "source": [
    "yolo=driver.find_elements_by_xpath(\"//div[@class='col-xxs-12 col-sm-5 text-ellipsis']/span/small\" )"
   ]
  },
  {
   "cell_type": "code",
   "execution_count": 493,
   "metadata": {},
   "outputs": [
    {
     "data": {
      "text/plain": [
       "['Delhi, Ghaziabad',\n",
       " 'Delhi, Gurgaon / Gurugram',\n",
       " 'Delhi, Noida',\n",
       " 'Delhi, Ghaziabad',\n",
       " 'Delhi, Gurgaon / Gurugram']"
      ]
     },
     "execution_count": 493,
     "metadata": {},
     "output_type": "execute_result"
    }
   ],
   "source": [
    "# Getting Location Data\n",
    "for bd in yolo:\n",
    "    pou=bd.text\n",
    "    Location.append(pou)\n",
    "Location[0:5]"
   ]
  },
  {
   "cell_type": "code",
   "execution_count": 494,
   "metadata": {},
   "outputs": [],
   "source": [
    "yolo=driver.find_elements_by_xpath(\"//div[@class='exp col-xxs-12 col-sm-3 text-ellipsis']/span/small\")"
   ]
  },
  {
   "cell_type": "code",
   "execution_count": 495,
   "metadata": {},
   "outputs": [
    {
     "data": {
      "text/plain": [
       "['0-5 Years', '0-5 Years', '0-5 Years', '0-5 Years', '0-5 Years']"
      ]
     },
     "execution_count": 495,
     "metadata": {},
     "output_type": "execute_result"
    }
   ],
   "source": [
    "# Getting Year of Experience data\n",
    "for jk in yolo:\n",
    "    pou=jk.text\n",
    "    Year.append(pou)\n",
    "Year[0:5]"
   ]
  },
  {
   "cell_type": "code",
   "execution_count": 496,
   "metadata": {},
   "outputs": [],
   "source": [
    "Data_Scientist = pd.DataFrame({'Job':Job,'Company':Company,'Location':Location,'Experience':Year})"
   ]
  },
  {
   "cell_type": "markdown",
   "metadata": {},
   "source": [
    "# Data of Data Scientist Job In Delhi"
   ]
  },
  {
   "cell_type": "code",
   "execution_count": 497,
   "metadata": {},
   "outputs": [
    {
     "data": {
      "text/html": [
       "<div>\n",
       "<style scoped>\n",
       "    .dataframe tbody tr th:only-of-type {\n",
       "        vertical-align: middle;\n",
       "    }\n",
       "\n",
       "    .dataframe tbody tr th {\n",
       "        vertical-align: top;\n",
       "    }\n",
       "\n",
       "    .dataframe thead th {\n",
       "        text-align: right;\n",
       "    }\n",
       "</style>\n",
       "<table border=\"1\" class=\"dataframe\">\n",
       "  <thead>\n",
       "    <tr style=\"text-align: right;\">\n",
       "      <th></th>\n",
       "      <th>Job</th>\n",
       "      <th>Company</th>\n",
       "      <th>Location</th>\n",
       "      <th>Experience</th>\n",
       "    </tr>\n",
       "  </thead>\n",
       "  <tbody>\n",
       "    <tr>\n",
       "      <th>0</th>\n",
       "      <td>Data Analyst / Fresher / Data Scientist / Grad...</td>\n",
       "      <td>Structured Learning Assistance Consultants Ind...</td>\n",
       "      <td>Delhi, Ghaziabad</td>\n",
       "      <td>0-5 Years</td>\n",
       "    </tr>\n",
       "    <tr>\n",
       "      <th>1</th>\n",
       "      <td>Data Analyst / Fresher / Data Scientist / Grad...</td>\n",
       "      <td>Structured Learning Assistance Consultants Ind...</td>\n",
       "      <td>Delhi, Gurgaon / Gurugram</td>\n",
       "      <td>0-5 Years</td>\n",
       "    </tr>\n",
       "    <tr>\n",
       "      <th>2</th>\n",
       "      <td>Data Analyst – Fresher – Data Scientist – Any ...</td>\n",
       "      <td>Structured Learning Assistance Consultants Ind...</td>\n",
       "      <td>Delhi, Noida</td>\n",
       "      <td>0-5 Years</td>\n",
       "    </tr>\n",
       "    <tr>\n",
       "      <th>3</th>\n",
       "      <td>Data Analyst / Fresher / Data Scientist / Grad...</td>\n",
       "      <td>Structured Learning Assistance Consultants Ind...</td>\n",
       "      <td>Delhi, Ghaziabad</td>\n",
       "      <td>0-5 Years</td>\n",
       "    </tr>\n",
       "    <tr>\n",
       "      <th>4</th>\n",
       "      <td>Data Analyst – Fresher – Data Scientist – Grad...</td>\n",
       "      <td>Structured Learning Assistance Consultants Ind...</td>\n",
       "      <td>Delhi, Gurgaon / Gurugram</td>\n",
       "      <td>0-5 Years</td>\n",
       "    </tr>\n",
       "    <tr>\n",
       "      <th>5</th>\n",
       "      <td>Data Analyst – Fresher – Data Scientist – Grad...</td>\n",
       "      <td>Structured Learning Assistance Consultants Ind...</td>\n",
       "      <td>Delhi, Noida</td>\n",
       "      <td>0-5 Years</td>\n",
       "    </tr>\n",
       "    <tr>\n",
       "      <th>6</th>\n",
       "      <td>DATA ANALYST – FRESHER – DATA SCIENTIST – SAS ...</td>\n",
       "      <td>Structured Learning Assistance Consultants Ind...</td>\n",
       "      <td>Delhi, Noida</td>\n",
       "      <td>0-5 Years</td>\n",
       "    </tr>\n",
       "    <tr>\n",
       "      <th>7</th>\n",
       "      <td>Data Scientist - 11</td>\n",
       "      <td>Accenture</td>\n",
       "      <td>Delhi, Mumbai</td>\n",
       "      <td>0-3 Years</td>\n",
       "    </tr>\n",
       "    <tr>\n",
       "      <th>8</th>\n",
       "      <td>Data Scientist - 09</td>\n",
       "      <td>Accenture</td>\n",
       "      <td>Delhi, Mumbai</td>\n",
       "      <td>3-6 Years</td>\n",
       "    </tr>\n",
       "    <tr>\n",
       "      <th>9</th>\n",
       "      <td>Data Scientist - 09</td>\n",
       "      <td>Accenture</td>\n",
       "      <td>Delhi, Mumbai</td>\n",
       "      <td>3-6 Years</td>\n",
       "    </tr>\n",
       "    <tr>\n",
       "      <th>10</th>\n",
       "      <td>Data Scientist - 11</td>\n",
       "      <td>Accenture</td>\n",
       "      <td>Delhi, Mumbai</td>\n",
       "      <td>0-3 Years</td>\n",
       "    </tr>\n",
       "    <tr>\n",
       "      <th>11</th>\n",
       "      <td>Data Scientist - Gurgaon || Experience 5 - 7 y...</td>\n",
       "      <td>WNS Global Services Private Limited</td>\n",
       "      <td>Delhi, Delhi NCR</td>\n",
       "      <td>Not Specified</td>\n",
       "    </tr>\n",
       "  </tbody>\n",
       "</table>\n",
       "</div>"
      ],
      "text/plain": [
       "                                                  Job  \\\n",
       "0   Data Analyst / Fresher / Data Scientist / Grad...   \n",
       "1   Data Analyst / Fresher / Data Scientist / Grad...   \n",
       "2   Data Analyst – Fresher – Data Scientist – Any ...   \n",
       "3   Data Analyst / Fresher / Data Scientist / Grad...   \n",
       "4   Data Analyst – Fresher – Data Scientist – Grad...   \n",
       "5   Data Analyst – Fresher – Data Scientist – Grad...   \n",
       "6   DATA ANALYST – FRESHER – DATA SCIENTIST – SAS ...   \n",
       "7                                 Data Scientist - 11   \n",
       "8                                 Data Scientist - 09   \n",
       "9                                 Data Scientist - 09   \n",
       "10                                Data Scientist - 11   \n",
       "11  Data Scientist - Gurgaon || Experience 5 - 7 y...   \n",
       "\n",
       "                                              Company  \\\n",
       "0   Structured Learning Assistance Consultants Ind...   \n",
       "1   Structured Learning Assistance Consultants Ind...   \n",
       "2   Structured Learning Assistance Consultants Ind...   \n",
       "3   Structured Learning Assistance Consultants Ind...   \n",
       "4   Structured Learning Assistance Consultants Ind...   \n",
       "5   Structured Learning Assistance Consultants Ind...   \n",
       "6   Structured Learning Assistance Consultants Ind...   \n",
       "7                                           Accenture   \n",
       "8                                           Accenture   \n",
       "9                                           Accenture   \n",
       "10                                          Accenture   \n",
       "11                WNS Global Services Private Limited   \n",
       "\n",
       "                     Location     Experience  \n",
       "0            Delhi, Ghaziabad      0-5 Years  \n",
       "1   Delhi, Gurgaon / Gurugram      0-5 Years  \n",
       "2                Delhi, Noida      0-5 Years  \n",
       "3            Delhi, Ghaziabad      0-5 Years  \n",
       "4   Delhi, Gurgaon / Gurugram      0-5 Years  \n",
       "5                Delhi, Noida      0-5 Years  \n",
       "6                Delhi, Noida      0-5 Years  \n",
       "7               Delhi, Mumbai      0-3 Years  \n",
       "8               Delhi, Mumbai      3-6 Years  \n",
       "9               Delhi, Mumbai      3-6 Years  \n",
       "10              Delhi, Mumbai      0-3 Years  \n",
       "11           Delhi, Delhi NCR  Not Specified  "
      ]
     },
     "execution_count": 497,
     "metadata": {},
     "output_type": "execute_result"
    }
   ],
   "source": [
    "Data_Scientist"
   ]
  },
  {
   "cell_type": "code",
   "execution_count": null,
   "metadata": {},
   "outputs": [],
   "source": []
  }
 ],
 "metadata": {
  "kernelspec": {
   "display_name": "Python 3",
   "language": "python",
   "name": "python3"
  },
  "language_info": {
   "codemirror_mode": {
    "name": "ipython",
    "version": 3
   },
   "file_extension": ".py",
   "mimetype": "text/x-python",
   "name": "python",
   "nbconvert_exporter": "python",
   "pygments_lexer": "ipython3",
   "version": "3.7.6"
  }
 },
 "nbformat": 4,
 "nbformat_minor": 4
}
